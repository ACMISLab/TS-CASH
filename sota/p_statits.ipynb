{
 "cells": [
  {
   "cell_type": "code",
   "execution_count": 1,
   "metadata": {
    "collapsed": true
   },
   "outputs": [
    {
     "data": {
      "text/plain": "                             dataset ('TS-CASH', 'ROC AUC')  \\\n0                        Bioresponse           0.898(0.014)   \n1                   PhishingWebsites           0.997(0.001)   \n2                     bank-marketing           0.933(0.004)   \n3                           breast-w           0.998(0.004)   \n4                              churn           0.933(0.019)   \n5   climate-model-simulation-crashes           0.967(0.047)   \n6                    credit-approval           0.946(0.032)   \n7                           credit-g           0.799(0.034)   \n8                     cylinder-bands           0.926(0.025)   \n9                           diabetes           0.858(0.072)   \n10                     dresses-sales           0.665(0.022)   \n11                       electricity           0.971(0.002)   \n12                              ilpd           0.803(0.041)   \n13                               jm1           0.778(0.014)   \n14                               kc1           0.843(0.038)   \n15                          kr-vs-kp               1.0(0.0)   \n16                           madelon           0.945(0.004)   \n17                             nomao           0.994(0.001)   \n18                   ozone-level-8hr           0.952(0.019)   \n19                               pc1           0.899(0.049)   \n20                               pc3             0.9(0.033)   \n21                               pc4           0.959(0.026)   \n22                           phoneme           0.968(0.009)   \n23                       qsar-biodeg           0.942(0.037)   \n24                              sick           0.998(0.002)   \n25                          spambase           0.991(0.004)   \n26                       tic-tac-toe               1.0(0.0)   \n27                              wilt           0.996(0.004)   \n\n   ('Auto-CASH', 'ROC AUC') ('AutoMHS-GPT(gpt-4o)', 'ROC AUC')  \\\n0              0.893(0.015)                       0.751(0.025)   \n1              0.997(0.001)                       0.966(0.005)   \n2              0.921(0.006)                       0.854(0.003)   \n3              0.987(0.012)                        0.991(0.01)   \n4              0.917(0.036)                       0.862(0.039)   \n5              0.909(0.063)                       0.889(0.088)   \n6               0.93(0.043)                       0.914(0.043)   \n7              0.806(0.047)                       0.748(0.046)   \n8              0.862(0.059)                       0.713(0.086)   \n9              0.843(0.065)                        0.81(0.061)   \n10             0.603(0.098)                       0.573(0.094)   \n11             0.942(0.003)                       0.788(0.006)   \n12             0.739(0.061)                       0.717(0.067)   \n13             0.729(0.012)                        0.69(0.018)   \n14             0.841(0.047)                        0.79(0.038)   \n15             0.999(0.001)                        0.97(0.008)   \n16             0.939(0.007)                       0.772(0.017)   \n17             0.992(0.001)                        0.96(0.002)   \n18              0.94(0.027)                       0.843(0.068)   \n19             0.875(0.081)                       0.702(0.061)   \n20             0.861(0.072)                       0.817(0.042)   \n21             0.943(0.034)                       0.946(0.018)   \n22             0.949(0.015)                        0.83(0.013)   \n23             0.912(0.053)                       0.823(0.037)   \n24             0.989(0.007)                       0.955(0.032)   \n25             0.984(0.006)                        0.955(0.02)   \n26             0.979(0.014)                       0.726(0.071)   \n27               0.99(0.01)                       0.885(0.043)   \n\n   ('BO', 'ROC AUC') ('HB', 'ROC AUC') ('RS', 'ROC AUC')  \n0       0.895(0.013)      0.883(0.012)       0.89(0.016)  \n1       0.994(0.002)      0.994(0.002)      0.994(0.001)  \n2       0.929(0.004)      0.909(0.002)      0.932(0.004)  \n3       0.998(0.003)      0.999(0.002)      0.999(0.002)  \n4       0.919(0.031)      0.908(0.028)       0.915(0.03)  \n5       0.941(0.078)      0.964(0.061)      0.971(0.045)  \n6        0.94(0.035)      0.937(0.037)      0.941(0.034)  \n7       0.796(0.045)      0.797(0.043)      0.797(0.046)  \n8       0.899(0.067)       0.898(0.07)      0.884(0.069)  \n9       0.848(0.057)      0.848(0.066)      0.853(0.053)  \n10       0.63(0.064)      0.663(0.063)       0.69(0.079)  \n11       0.96(0.001)      0.884(0.006)      0.963(0.001)  \n12      0.757(0.049)      0.787(0.042)      0.785(0.037)  \n13      0.769(0.015)      0.724(0.025)      0.764(0.012)  \n14       0.832(0.03)      0.823(0.032)      0.824(0.031)  \n15      0.999(0.001)      0.999(0.001)      0.999(0.001)  \n16      0.918(0.011)      0.838(0.011)      0.917(0.011)  \n17      0.994(0.001)      0.991(0.002)      0.994(0.001)  \n18      0.942(0.024)      0.941(0.017)      0.941(0.022)  \n19      0.893(0.049)      0.881(0.026)      0.895(0.035)  \n20       0.89(0.034)       0.883(0.04)       0.88(0.036)  \n21      0.935(0.015)      0.928(0.024)      0.945(0.018)  \n22      0.956(0.009)      0.915(0.012)      0.953(0.009)  \n23       0.93(0.027)      0.929(0.028)       0.933(0.03)  \n24      0.991(0.007)      0.954(0.019)      0.995(0.003)  \n25      0.987(0.005)      0.983(0.006)      0.988(0.005)  \n26          1.0(0.0)          1.0(0.0)          1.0(0.0)  \n27      0.989(0.008)      0.973(0.005)      0.984(0.015)  ",
      "text/html": "<div>\n<style scoped>\n    .dataframe tbody tr th:only-of-type {\n        vertical-align: middle;\n    }\n\n    .dataframe tbody tr th {\n        vertical-align: top;\n    }\n\n    .dataframe thead th {\n        text-align: right;\n    }\n</style>\n<table border=\"1\" class=\"dataframe\">\n  <thead>\n    <tr style=\"text-align: right;\">\n      <th></th>\n      <th>dataset</th>\n      <th>('TS-CASH', 'ROC AUC')</th>\n      <th>('Auto-CASH', 'ROC AUC')</th>\n      <th>('AutoMHS-GPT(gpt-4o)', 'ROC AUC')</th>\n      <th>('BO', 'ROC AUC')</th>\n      <th>('HB', 'ROC AUC')</th>\n      <th>('RS', 'ROC AUC')</th>\n    </tr>\n  </thead>\n  <tbody>\n    <tr>\n      <th>0</th>\n      <td>Bioresponse</td>\n      <td>0.898(0.014)</td>\n      <td>0.893(0.015)</td>\n      <td>0.751(0.025)</td>\n      <td>0.895(0.013)</td>\n      <td>0.883(0.012)</td>\n      <td>0.89(0.016)</td>\n    </tr>\n    <tr>\n      <th>1</th>\n      <td>PhishingWebsites</td>\n      <td>0.997(0.001)</td>\n      <td>0.997(0.001)</td>\n      <td>0.966(0.005)</td>\n      <td>0.994(0.002)</td>\n      <td>0.994(0.002)</td>\n      <td>0.994(0.001)</td>\n    </tr>\n    <tr>\n      <th>2</th>\n      <td>bank-marketing</td>\n      <td>0.933(0.004)</td>\n      <td>0.921(0.006)</td>\n      <td>0.854(0.003)</td>\n      <td>0.929(0.004)</td>\n      <td>0.909(0.002)</td>\n      <td>0.932(0.004)</td>\n    </tr>\n    <tr>\n      <th>3</th>\n      <td>breast-w</td>\n      <td>0.998(0.004)</td>\n      <td>0.987(0.012)</td>\n      <td>0.991(0.01)</td>\n      <td>0.998(0.003)</td>\n      <td>0.999(0.002)</td>\n      <td>0.999(0.002)</td>\n    </tr>\n    <tr>\n      <th>4</th>\n      <td>churn</td>\n      <td>0.933(0.019)</td>\n      <td>0.917(0.036)</td>\n      <td>0.862(0.039)</td>\n      <td>0.919(0.031)</td>\n      <td>0.908(0.028)</td>\n      <td>0.915(0.03)</td>\n    </tr>\n    <tr>\n      <th>5</th>\n      <td>climate-model-simulation-crashes</td>\n      <td>0.967(0.047)</td>\n      <td>0.909(0.063)</td>\n      <td>0.889(0.088)</td>\n      <td>0.941(0.078)</td>\n      <td>0.964(0.061)</td>\n      <td>0.971(0.045)</td>\n    </tr>\n    <tr>\n      <th>6</th>\n      <td>credit-approval</td>\n      <td>0.946(0.032)</td>\n      <td>0.93(0.043)</td>\n      <td>0.914(0.043)</td>\n      <td>0.94(0.035)</td>\n      <td>0.937(0.037)</td>\n      <td>0.941(0.034)</td>\n    </tr>\n    <tr>\n      <th>7</th>\n      <td>credit-g</td>\n      <td>0.799(0.034)</td>\n      <td>0.806(0.047)</td>\n      <td>0.748(0.046)</td>\n      <td>0.796(0.045)</td>\n      <td>0.797(0.043)</td>\n      <td>0.797(0.046)</td>\n    </tr>\n    <tr>\n      <th>8</th>\n      <td>cylinder-bands</td>\n      <td>0.926(0.025)</td>\n      <td>0.862(0.059)</td>\n      <td>0.713(0.086)</td>\n      <td>0.899(0.067)</td>\n      <td>0.898(0.07)</td>\n      <td>0.884(0.069)</td>\n    </tr>\n    <tr>\n      <th>9</th>\n      <td>diabetes</td>\n      <td>0.858(0.072)</td>\n      <td>0.843(0.065)</td>\n      <td>0.81(0.061)</td>\n      <td>0.848(0.057)</td>\n      <td>0.848(0.066)</td>\n      <td>0.853(0.053)</td>\n    </tr>\n    <tr>\n      <th>10</th>\n      <td>dresses-sales</td>\n      <td>0.665(0.022)</td>\n      <td>0.603(0.098)</td>\n      <td>0.573(0.094)</td>\n      <td>0.63(0.064)</td>\n      <td>0.663(0.063)</td>\n      <td>0.69(0.079)</td>\n    </tr>\n    <tr>\n      <th>11</th>\n      <td>electricity</td>\n      <td>0.971(0.002)</td>\n      <td>0.942(0.003)</td>\n      <td>0.788(0.006)</td>\n      <td>0.96(0.001)</td>\n      <td>0.884(0.006)</td>\n      <td>0.963(0.001)</td>\n    </tr>\n    <tr>\n      <th>12</th>\n      <td>ilpd</td>\n      <td>0.803(0.041)</td>\n      <td>0.739(0.061)</td>\n      <td>0.717(0.067)</td>\n      <td>0.757(0.049)</td>\n      <td>0.787(0.042)</td>\n      <td>0.785(0.037)</td>\n    </tr>\n    <tr>\n      <th>13</th>\n      <td>jm1</td>\n      <td>0.778(0.014)</td>\n      <td>0.729(0.012)</td>\n      <td>0.69(0.018)</td>\n      <td>0.769(0.015)</td>\n      <td>0.724(0.025)</td>\n      <td>0.764(0.012)</td>\n    </tr>\n    <tr>\n      <th>14</th>\n      <td>kc1</td>\n      <td>0.843(0.038)</td>\n      <td>0.841(0.047)</td>\n      <td>0.79(0.038)</td>\n      <td>0.832(0.03)</td>\n      <td>0.823(0.032)</td>\n      <td>0.824(0.031)</td>\n    </tr>\n    <tr>\n      <th>15</th>\n      <td>kr-vs-kp</td>\n      <td>1.0(0.0)</td>\n      <td>0.999(0.001)</td>\n      <td>0.97(0.008)</td>\n      <td>0.999(0.001)</td>\n      <td>0.999(0.001)</td>\n      <td>0.999(0.001)</td>\n    </tr>\n    <tr>\n      <th>16</th>\n      <td>madelon</td>\n      <td>0.945(0.004)</td>\n      <td>0.939(0.007)</td>\n      <td>0.772(0.017)</td>\n      <td>0.918(0.011)</td>\n      <td>0.838(0.011)</td>\n      <td>0.917(0.011)</td>\n    </tr>\n    <tr>\n      <th>17</th>\n      <td>nomao</td>\n      <td>0.994(0.001)</td>\n      <td>0.992(0.001)</td>\n      <td>0.96(0.002)</td>\n      <td>0.994(0.001)</td>\n      <td>0.991(0.002)</td>\n      <td>0.994(0.001)</td>\n    </tr>\n    <tr>\n      <th>18</th>\n      <td>ozone-level-8hr</td>\n      <td>0.952(0.019)</td>\n      <td>0.94(0.027)</td>\n      <td>0.843(0.068)</td>\n      <td>0.942(0.024)</td>\n      <td>0.941(0.017)</td>\n      <td>0.941(0.022)</td>\n    </tr>\n    <tr>\n      <th>19</th>\n      <td>pc1</td>\n      <td>0.899(0.049)</td>\n      <td>0.875(0.081)</td>\n      <td>0.702(0.061)</td>\n      <td>0.893(0.049)</td>\n      <td>0.881(0.026)</td>\n      <td>0.895(0.035)</td>\n    </tr>\n    <tr>\n      <th>20</th>\n      <td>pc3</td>\n      <td>0.9(0.033)</td>\n      <td>0.861(0.072)</td>\n      <td>0.817(0.042)</td>\n      <td>0.89(0.034)</td>\n      <td>0.883(0.04)</td>\n      <td>0.88(0.036)</td>\n    </tr>\n    <tr>\n      <th>21</th>\n      <td>pc4</td>\n      <td>0.959(0.026)</td>\n      <td>0.943(0.034)</td>\n      <td>0.946(0.018)</td>\n      <td>0.935(0.015)</td>\n      <td>0.928(0.024)</td>\n      <td>0.945(0.018)</td>\n    </tr>\n    <tr>\n      <th>22</th>\n      <td>phoneme</td>\n      <td>0.968(0.009)</td>\n      <td>0.949(0.015)</td>\n      <td>0.83(0.013)</td>\n      <td>0.956(0.009)</td>\n      <td>0.915(0.012)</td>\n      <td>0.953(0.009)</td>\n    </tr>\n    <tr>\n      <th>23</th>\n      <td>qsar-biodeg</td>\n      <td>0.942(0.037)</td>\n      <td>0.912(0.053)</td>\n      <td>0.823(0.037)</td>\n      <td>0.93(0.027)</td>\n      <td>0.929(0.028)</td>\n      <td>0.933(0.03)</td>\n    </tr>\n    <tr>\n      <th>24</th>\n      <td>sick</td>\n      <td>0.998(0.002)</td>\n      <td>0.989(0.007)</td>\n      <td>0.955(0.032)</td>\n      <td>0.991(0.007)</td>\n      <td>0.954(0.019)</td>\n      <td>0.995(0.003)</td>\n    </tr>\n    <tr>\n      <th>25</th>\n      <td>spambase</td>\n      <td>0.991(0.004)</td>\n      <td>0.984(0.006)</td>\n      <td>0.955(0.02)</td>\n      <td>0.987(0.005)</td>\n      <td>0.983(0.006)</td>\n      <td>0.988(0.005)</td>\n    </tr>\n    <tr>\n      <th>26</th>\n      <td>tic-tac-toe</td>\n      <td>1.0(0.0)</td>\n      <td>0.979(0.014)</td>\n      <td>0.726(0.071)</td>\n      <td>1.0(0.0)</td>\n      <td>1.0(0.0)</td>\n      <td>1.0(0.0)</td>\n    </tr>\n    <tr>\n      <th>27</th>\n      <td>wilt</td>\n      <td>0.996(0.004)</td>\n      <td>0.99(0.01)</td>\n      <td>0.885(0.043)</td>\n      <td>0.989(0.008)</td>\n      <td>0.973(0.005)</td>\n      <td>0.984(0.015)</td>\n    </tr>\n  </tbody>\n</table>\n</div>"
     },
     "execution_count": 1,
     "metadata": {},
     "output_type": "execute_result"
    }
   ],
   "source": [
    "import pandas as pd\n",
    "\n",
    "df = pd.read_csv(\"compare_all_ROC AUC.csv\")\n",
    "df"
   ]
  },
  {
   "cell_type": "code",
   "execution_count": 14,
   "outputs": [
    {
     "data": {
      "text/plain": "TtestResult(statistic=5.319949959553773, pvalue=1.2906023228445554e-05, df=27)"
     },
     "execution_count": 14,
     "metadata": {},
     "output_type": "execute_result"
    }
   ],
   "source": [
    "ts_cash = df[\"('TS-CASH', 'ROC AUC')\"].apply(lambda x: float(x.split(\"(\")[0])).tolist()\n",
    "auto_cash = df[\"('Auto-CASH', 'ROC AUC')\"].apply(lambda x: float(x.split(\"(\")[0])).tolist()\n",
    "ts_cash, auto_cash\n",
    "# 建议ts_cash 相比auto_cash是否有显著的差异，用配对t检验\n",
    "from scipy import stats\n",
    "\n",
    "stats.ttest_rel(ts_cash, auto_cash)\n",
    "# pvalue=1.2906023228445554e-05"
   ],
   "metadata": {
    "collapsed": false
   }
  },
  {
   "cell_type": "code",
   "execution_count": 18,
   "outputs": [
    {
     "name": "stdout",
     "output_type": "stream",
     "text": [
      "均值差值: 0.0210\n",
      "95% 置信区间: [-0.0253, 0.0673]\n"
     ]
    }
   ],
   "source": [
    "from scipy.stats import norm\n",
    "import numpy as np\n",
    "\n",
    "# 计算均值和标准差\n",
    "mean_diff = np.mean(ts_cash) - np.mean(auto_cash)\n",
    "var_ts = np.var(ts_cash, ddof=1)\n",
    "var_auto = np.var(auto_cash, ddof=1)\n",
    "n_ts = len(ts_cash)\n",
    "n_auto = len(auto_cash)\n",
    "\n",
    "# 标准误\n",
    "se_diff = np.sqrt(var_ts / n_ts + var_auto / n_auto)\n",
    "\n",
    "# 95% 置信区间\n",
    "z = norm.ppf(0.975)  # Z 值对应 95% CI\n",
    "ci_lower = mean_diff - z * se_diff\n",
    "ci_upper = mean_diff + z * se_diff\n",
    "\n",
    "print(f\"均值差值: {mean_diff:.4f}\")\n",
    "print(f\"95% 置信区间: [{ci_lower:.4f}, {ci_upper:.4f}]\")"
   ],
   "metadata": {
    "collapsed": false
   }
  },
  {
   "cell_type": "code",
   "execution_count": null,
   "outputs": [],
   "source": [],
   "metadata": {
    "collapsed": false
   }
  }
 ],
 "metadata": {
  "kernelspec": {
   "display_name": "Python 3",
   "language": "python",
   "name": "python3"
  },
  "language_info": {
   "codemirror_mode": {
    "name": "ipython",
    "version": 2
   },
   "file_extension": ".py",
   "mimetype": "text/x-python",
   "name": "python",
   "nbconvert_exporter": "python",
   "pygments_lexer": "ipython2",
   "version": "2.7.6"
  }
 },
 "nbformat": 4,
 "nbformat_minor": 0
}
