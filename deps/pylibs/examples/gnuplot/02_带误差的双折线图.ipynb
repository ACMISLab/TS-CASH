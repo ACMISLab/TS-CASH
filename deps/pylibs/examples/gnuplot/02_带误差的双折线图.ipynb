{
 "cells": [
  {
   "cell_type": "markdown",
   "source": [
    "## 演示\n",
    "![](imgs/02_img.png)"
   ],
   "metadata": {
    "collapsed": false
   }
  },
  {
   "cell_type": "code",
   "execution_count": 15,
   "metadata": {
    "collapsed": true,
    "ExecuteTime": {
     "end_time": "2024-04-15T02:41:39.125489Z",
     "start_time": "2024-04-15T02:41:39.067461Z"
    }
   },
   "outputs": [
    {
     "data": {
      "text/plain": "     opt_result  default_result  used_walltime  used_target_function_walltime  \\\n0      0.812032        0.812032       0.296097                       0.296097   \n1      0.458333        0.458333       0.296097                       0.296097   \n2      0.458853        0.458853       0.221993                       0.221993   \n3      0.004175        0.004175       0.221993                       0.221993   \n4      0.894112        0.894112       0.287799                       0.287799   \n..          ...             ...            ...                            ...   \n139    0.919255        0.919255    1157.242360                    1157.242360   \n140    0.875042        0.875042    2429.452672                    2429.452672   \n141    0.100000        0.100000    1342.874242                    1342.874242   \n142    0.901890        0.901890    1938.575209                    1938.575209   \n143    0.208696        0.208696    2289.786517                    2289.786517   \n\n                                                  conf            exp_name  \\\n0    Configuration(values={\\n  'classifier': 'knn',...  01_effect_n_trials   \n1    Configuration(values={\\n  'classifier': 'knn',...  01_effect_n_trials   \n2    Configuration(values={\\n  'classifier': 'knn',...  01_effect_n_trials   \n3    Configuration(values={\\n  'classifier': 'knn',...  01_effect_n_trials   \n4    Configuration(values={\\n  'classifier': 'knn',...  01_effect_n_trials   \n..                                                 ...                 ...   \n139  Configuration(values={\\n  'ae_batch_size': 50,...  01_effect_n_trials   \n140  Configuration(values={\\n  'classifier': 'lstm'...  01_effect_n_trials   \n141  Configuration(values={\\n  'classifier': 'lstm'...  01_effect_n_trials   \n142  Configuration(values={\\n  'ae_batch_size': 131...  01_effect_n_trials   \n143  Configuration(values={\\n  'ae_batch_size': 36,...  01_effect_n_trials   \n\n                   job_name  \\\n0    autoscaling_data_False   \n1    autoscaling_data_False   \n2    autoscaling_data_False   \n3    autoscaling_data_False   \n4    autoscaling_data_False   \n..                      ...   \n139  autoscaling_data_False   \n140  autoscaling_data_False   \n141  autoscaling_data_False   \n142  autoscaling_data_False   \n143  autoscaling_data_False   \n\n                                              out_home dataset_name  \\\n0    /remote-home/cs_acmis_sunwu/experiment_results...        YAHOO   \n1    /remote-home/cs_acmis_sunwu/experiment_results...        YAHOO   \n2    /remote-home/cs_acmis_sunwu/experiment_results...        YAHOO   \n3    /remote-home/cs_acmis_sunwu/experiment_results...        YAHOO   \n4    /remote-home/cs_acmis_sunwu/experiment_results...        YAHOO   \n..                                                 ...          ...   \n139  /remote-home/cs_acmis_sunwu/experiment_results...        YAHOO   \n140  /remote-home/cs_acmis_sunwu/experiment_results...        YAHOO   \n141  /remote-home/cs_acmis_sunwu/experiment_results...        YAHOO   \n142  /remote-home/cs_acmis_sunwu/experiment_results...        YAHOO   \n143  /remote-home/cs_acmis_sunwu/experiment_results...        YAHOO   \n\n                            data_id  ...  \\\n0          Yahoo_A1real_46_data.out  ...   \n1          Yahoo_A1real_46_data.out  ...   \n2    YahooA4Benchmark-TS55_data.out  ...   \n3    YahooA4Benchmark-TS55_data.out  ...   \n4          Yahoo_A1real_31_data.out  ...   \n..                              ...  ...   \n139        Yahoo_A1real_46_data.out  ...   \n140  YahooA4Benchmark-TS55_data.out  ...   \n141  YahooA4Benchmark-TS55_data.out  ...   \n142        Yahoo_A1real_31_data.out  ...   \n143        Yahoo_A1real_31_data.out  ...   \n\n                                               out_dir  exp_index exp_total  \\\n0    /remote-home/cs_acmis_sunwu/experiment_results...          1       144   \n1    /remote-home/cs_acmis_sunwu/experiment_results...          2       144   \n2    /remote-home/cs_acmis_sunwu/experiment_results...          3       144   \n3    /remote-home/cs_acmis_sunwu/experiment_results...          4       144   \n4    /remote-home/cs_acmis_sunwu/experiment_results...          5       144   \n..                                                 ...        ...       ...   \n139  /remote-home/cs_acmis_sunwu/experiment_results...        140       144   \n140  /remote-home/cs_acmis_sunwu/experiment_results...        141       144   \n141  /remote-home/cs_acmis_sunwu/experiment_results...        142       144   \n142  /remote-home/cs_acmis_sunwu/experiment_results...        143       144   \n143  /remote-home/cs_acmis_sunwu/experiment_results...        144       144   \n\n     test_rate n_trials     opt_metric  data_sample_method  data_sample_rate  \\\n0          0.4        1        VUS_ROC                  -1              -1.0   \n1          0.4        1  BEST_F1_SCORE                  -1              -1.0   \n2          0.4        1        VUS_ROC                  -1              -1.0   \n3          0.4        1  BEST_F1_SCORE                  -1              -1.0   \n4          0.4        1        VUS_ROC                  -1              -1.0   \n..         ...      ...            ...                 ...               ...   \n139        0.4      140  BEST_F1_SCORE                  -1              -1.0   \n140        0.4      140        VUS_ROC                  -1              -1.0   \n141        0.4      140  BEST_F1_SCORE                  -1              -1.0   \n142        0.4      140        VUS_ROC                  -1              -1.0   \n143        0.4      140  BEST_F1_SCORE                  -1              -1.0   \n\n     parallel  total_training_time  \n0        True             0.296097  \n1        True             0.296097  \n2        True             0.221993  \n3        True             0.221993  \n4        True             0.287799  \n..        ...                  ...  \n139      True          1157.242360  \n140      True          2429.452672  \n141      True          1342.874242  \n142      True          1938.575209  \n143      True          2289.786517  \n\n[144 rows x 25 columns]",
      "text/html": "<div>\n<style scoped>\n    .dataframe tbody tr th:only-of-type {\n        vertical-align: middle;\n    }\n\n    .dataframe tbody tr th {\n        vertical-align: top;\n    }\n\n    .dataframe thead th {\n        text-align: right;\n    }\n</style>\n<table border=\"1\" class=\"dataframe\">\n  <thead>\n    <tr style=\"text-align: right;\">\n      <th></th>\n      <th>opt_result</th>\n      <th>default_result</th>\n      <th>used_walltime</th>\n      <th>used_target_function_walltime</th>\n      <th>conf</th>\n      <th>exp_name</th>\n      <th>job_name</th>\n      <th>out_home</th>\n      <th>dataset_name</th>\n      <th>data_id</th>\n      <th>...</th>\n      <th>out_dir</th>\n      <th>exp_index</th>\n      <th>exp_total</th>\n      <th>test_rate</th>\n      <th>n_trials</th>\n      <th>opt_metric</th>\n      <th>data_sample_method</th>\n      <th>data_sample_rate</th>\n      <th>parallel</th>\n      <th>total_training_time</th>\n    </tr>\n  </thead>\n  <tbody>\n    <tr>\n      <th>0</th>\n      <td>0.812032</td>\n      <td>0.812032</td>\n      <td>0.296097</td>\n      <td>0.296097</td>\n      <td>Configuration(values={\\n  'classifier': 'knn',...</td>\n      <td>01_effect_n_trials</td>\n      <td>autoscaling_data_False</td>\n      <td>/remote-home/cs_acmis_sunwu/experiment_results...</td>\n      <td>YAHOO</td>\n      <td>Yahoo_A1real_46_data.out</td>\n      <td>...</td>\n      <td>/remote-home/cs_acmis_sunwu/experiment_results...</td>\n      <td>1</td>\n      <td>144</td>\n      <td>0.4</td>\n      <td>1</td>\n      <td>VUS_ROC</td>\n      <td>-1</td>\n      <td>-1.0</td>\n      <td>True</td>\n      <td>0.296097</td>\n    </tr>\n    <tr>\n      <th>1</th>\n      <td>0.458333</td>\n      <td>0.458333</td>\n      <td>0.296097</td>\n      <td>0.296097</td>\n      <td>Configuration(values={\\n  'classifier': 'knn',...</td>\n      <td>01_effect_n_trials</td>\n      <td>autoscaling_data_False</td>\n      <td>/remote-home/cs_acmis_sunwu/experiment_results...</td>\n      <td>YAHOO</td>\n      <td>Yahoo_A1real_46_data.out</td>\n      <td>...</td>\n      <td>/remote-home/cs_acmis_sunwu/experiment_results...</td>\n      <td>2</td>\n      <td>144</td>\n      <td>0.4</td>\n      <td>1</td>\n      <td>BEST_F1_SCORE</td>\n      <td>-1</td>\n      <td>-1.0</td>\n      <td>True</td>\n      <td>0.296097</td>\n    </tr>\n    <tr>\n      <th>2</th>\n      <td>0.458853</td>\n      <td>0.458853</td>\n      <td>0.221993</td>\n      <td>0.221993</td>\n      <td>Configuration(values={\\n  'classifier': 'knn',...</td>\n      <td>01_effect_n_trials</td>\n      <td>autoscaling_data_False</td>\n      <td>/remote-home/cs_acmis_sunwu/experiment_results...</td>\n      <td>YAHOO</td>\n      <td>YahooA4Benchmark-TS55_data.out</td>\n      <td>...</td>\n      <td>/remote-home/cs_acmis_sunwu/experiment_results...</td>\n      <td>3</td>\n      <td>144</td>\n      <td>0.4</td>\n      <td>1</td>\n      <td>VUS_ROC</td>\n      <td>-1</td>\n      <td>-1.0</td>\n      <td>True</td>\n      <td>0.221993</td>\n    </tr>\n    <tr>\n      <th>3</th>\n      <td>0.004175</td>\n      <td>0.004175</td>\n      <td>0.221993</td>\n      <td>0.221993</td>\n      <td>Configuration(values={\\n  'classifier': 'knn',...</td>\n      <td>01_effect_n_trials</td>\n      <td>autoscaling_data_False</td>\n      <td>/remote-home/cs_acmis_sunwu/experiment_results...</td>\n      <td>YAHOO</td>\n      <td>YahooA4Benchmark-TS55_data.out</td>\n      <td>...</td>\n      <td>/remote-home/cs_acmis_sunwu/experiment_results...</td>\n      <td>4</td>\n      <td>144</td>\n      <td>0.4</td>\n      <td>1</td>\n      <td>BEST_F1_SCORE</td>\n      <td>-1</td>\n      <td>-1.0</td>\n      <td>True</td>\n      <td>0.221993</td>\n    </tr>\n    <tr>\n      <th>4</th>\n      <td>0.894112</td>\n      <td>0.894112</td>\n      <td>0.287799</td>\n      <td>0.287799</td>\n      <td>Configuration(values={\\n  'classifier': 'knn',...</td>\n      <td>01_effect_n_trials</td>\n      <td>autoscaling_data_False</td>\n      <td>/remote-home/cs_acmis_sunwu/experiment_results...</td>\n      <td>YAHOO</td>\n      <td>Yahoo_A1real_31_data.out</td>\n      <td>...</td>\n      <td>/remote-home/cs_acmis_sunwu/experiment_results...</td>\n      <td>5</td>\n      <td>144</td>\n      <td>0.4</td>\n      <td>1</td>\n      <td>VUS_ROC</td>\n      <td>-1</td>\n      <td>-1.0</td>\n      <td>True</td>\n      <td>0.287799</td>\n    </tr>\n    <tr>\n      <th>...</th>\n      <td>...</td>\n      <td>...</td>\n      <td>...</td>\n      <td>...</td>\n      <td>...</td>\n      <td>...</td>\n      <td>...</td>\n      <td>...</td>\n      <td>...</td>\n      <td>...</td>\n      <td>...</td>\n      <td>...</td>\n      <td>...</td>\n      <td>...</td>\n      <td>...</td>\n      <td>...</td>\n      <td>...</td>\n      <td>...</td>\n      <td>...</td>\n      <td>...</td>\n      <td>...</td>\n    </tr>\n    <tr>\n      <th>139</th>\n      <td>0.919255</td>\n      <td>0.919255</td>\n      <td>1157.242360</td>\n      <td>1157.242360</td>\n      <td>Configuration(values={\\n  'ae_batch_size': 50,...</td>\n      <td>01_effect_n_trials</td>\n      <td>autoscaling_data_False</td>\n      <td>/remote-home/cs_acmis_sunwu/experiment_results...</td>\n      <td>YAHOO</td>\n      <td>Yahoo_A1real_46_data.out</td>\n      <td>...</td>\n      <td>/remote-home/cs_acmis_sunwu/experiment_results...</td>\n      <td>140</td>\n      <td>144</td>\n      <td>0.4</td>\n      <td>140</td>\n      <td>BEST_F1_SCORE</td>\n      <td>-1</td>\n      <td>-1.0</td>\n      <td>True</td>\n      <td>1157.242360</td>\n    </tr>\n    <tr>\n      <th>140</th>\n      <td>0.875042</td>\n      <td>0.875042</td>\n      <td>2429.452672</td>\n      <td>2429.452672</td>\n      <td>Configuration(values={\\n  'classifier': 'lstm'...</td>\n      <td>01_effect_n_trials</td>\n      <td>autoscaling_data_False</td>\n      <td>/remote-home/cs_acmis_sunwu/experiment_results...</td>\n      <td>YAHOO</td>\n      <td>YahooA4Benchmark-TS55_data.out</td>\n      <td>...</td>\n      <td>/remote-home/cs_acmis_sunwu/experiment_results...</td>\n      <td>141</td>\n      <td>144</td>\n      <td>0.4</td>\n      <td>140</td>\n      <td>VUS_ROC</td>\n      <td>-1</td>\n      <td>-1.0</td>\n      <td>True</td>\n      <td>2429.452672</td>\n    </tr>\n    <tr>\n      <th>141</th>\n      <td>0.100000</td>\n      <td>0.100000</td>\n      <td>1342.874242</td>\n      <td>1342.874242</td>\n      <td>Configuration(values={\\n  'classifier': 'lstm'...</td>\n      <td>01_effect_n_trials</td>\n      <td>autoscaling_data_False</td>\n      <td>/remote-home/cs_acmis_sunwu/experiment_results...</td>\n      <td>YAHOO</td>\n      <td>YahooA4Benchmark-TS55_data.out</td>\n      <td>...</td>\n      <td>/remote-home/cs_acmis_sunwu/experiment_results...</td>\n      <td>142</td>\n      <td>144</td>\n      <td>0.4</td>\n      <td>140</td>\n      <td>BEST_F1_SCORE</td>\n      <td>-1</td>\n      <td>-1.0</td>\n      <td>True</td>\n      <td>1342.874242</td>\n    </tr>\n    <tr>\n      <th>142</th>\n      <td>0.901890</td>\n      <td>0.901890</td>\n      <td>1938.575209</td>\n      <td>1938.575209</td>\n      <td>Configuration(values={\\n  'ae_batch_size': 131...</td>\n      <td>01_effect_n_trials</td>\n      <td>autoscaling_data_False</td>\n      <td>/remote-home/cs_acmis_sunwu/experiment_results...</td>\n      <td>YAHOO</td>\n      <td>Yahoo_A1real_31_data.out</td>\n      <td>...</td>\n      <td>/remote-home/cs_acmis_sunwu/experiment_results...</td>\n      <td>143</td>\n      <td>144</td>\n      <td>0.4</td>\n      <td>140</td>\n      <td>VUS_ROC</td>\n      <td>-1</td>\n      <td>-1.0</td>\n      <td>True</td>\n      <td>1938.575209</td>\n    </tr>\n    <tr>\n      <th>143</th>\n      <td>0.208696</td>\n      <td>0.208696</td>\n      <td>2289.786517</td>\n      <td>2289.786517</td>\n      <td>Configuration(values={\\n  'ae_batch_size': 36,...</td>\n      <td>01_effect_n_trials</td>\n      <td>autoscaling_data_False</td>\n      <td>/remote-home/cs_acmis_sunwu/experiment_results...</td>\n      <td>YAHOO</td>\n      <td>Yahoo_A1real_31_data.out</td>\n      <td>...</td>\n      <td>/remote-home/cs_acmis_sunwu/experiment_results...</td>\n      <td>144</td>\n      <td>144</td>\n      <td>0.4</td>\n      <td>140</td>\n      <td>BEST_F1_SCORE</td>\n      <td>-1</td>\n      <td>-1.0</td>\n      <td>True</td>\n      <td>2289.786517</td>\n    </tr>\n  </tbody>\n</table>\n<p>144 rows × 25 columns</p>\n</div>"
     },
     "execution_count": 15,
     "metadata": {},
     "output_type": "execute_result"
    }
   ],
   "source": [
    "# 2024年4月11日 21:24:56-F0DEF8E1-478D-47C5-B1A8-C51F583CF4B9\n",
    "import pandas as pd\n",
    "\n",
    "from pylibs.uts_dataset.util_const import K\n",
    "import re\n",
    "\n",
    "source_df = pd.read_csv(\"datas/01_effect_n_trials_20240414_052305_is_debug_False.csv\")\n",
    "source_df"
   ]
  },
  {
   "cell_type": "code",
   "execution_count": 16,
   "outputs": [
    {
     "data": {
      "text/plain": "     opt_result  default_result  used_walltime  used_target_function_walltime  \\\n0      0.812032        0.812032       0.296097                       0.296097   \n1      0.458333        0.458333       0.296097                       0.296097   \n2      0.458853        0.458853       0.221993                       0.221993   \n3      0.004175        0.004175       0.221993                       0.221993   \n4      0.894112        0.894112       0.287799                       0.287799   \n..          ...             ...            ...                            ...   \n139    0.919255        0.919255    1157.242360                    1157.242360   \n140    0.875042        0.875042    2429.452672                    2429.452672   \n141    0.100000        0.100000    1342.874242                    1342.874242   \n142    0.901890        0.901890    1938.575209                    1938.575209   \n143    0.208696        0.208696    2289.786517                    2289.786517   \n\n                                                  conf            exp_name  \\\n0    Configuration(values={\\n  'classifier': 'knn',...  01_effect_n_trials   \n1    Configuration(values={\\n  'classifier': 'knn',...  01_effect_n_trials   \n2    Configuration(values={\\n  'classifier': 'knn',...  01_effect_n_trials   \n3    Configuration(values={\\n  'classifier': 'knn',...  01_effect_n_trials   \n4    Configuration(values={\\n  'classifier': 'knn',...  01_effect_n_trials   \n..                                                 ...                 ...   \n139  Configuration(values={\\n  'ae_batch_size': 50,...  01_effect_n_trials   \n140  Configuration(values={\\n  'classifier': 'lstm'...  01_effect_n_trials   \n141  Configuration(values={\\n  'classifier': 'lstm'...  01_effect_n_trials   \n142  Configuration(values={\\n  'ae_batch_size': 131...  01_effect_n_trials   \n143  Configuration(values={\\n  'ae_batch_size': 36,...  01_effect_n_trials   \n\n                   job_name  \\\n0    autoscaling_data_False   \n1    autoscaling_data_False   \n2    autoscaling_data_False   \n3    autoscaling_data_False   \n4    autoscaling_data_False   \n..                      ...   \n139  autoscaling_data_False   \n140  autoscaling_data_False   \n141  autoscaling_data_False   \n142  autoscaling_data_False   \n143  autoscaling_data_False   \n\n                                              out_home dataset_name  \\\n0    /remote-home/cs_acmis_sunwu/experiment_results...        YAHOO   \n1    /remote-home/cs_acmis_sunwu/experiment_results...        YAHOO   \n2    /remote-home/cs_acmis_sunwu/experiment_results...        YAHOO   \n3    /remote-home/cs_acmis_sunwu/experiment_results...        YAHOO   \n4    /remote-home/cs_acmis_sunwu/experiment_results...        YAHOO   \n..                                                 ...          ...   \n139  /remote-home/cs_acmis_sunwu/experiment_results...        YAHOO   \n140  /remote-home/cs_acmis_sunwu/experiment_results...        YAHOO   \n141  /remote-home/cs_acmis_sunwu/experiment_results...        YAHOO   \n142  /remote-home/cs_acmis_sunwu/experiment_results...        YAHOO   \n143  /remote-home/cs_acmis_sunwu/experiment_results...        YAHOO   \n\n                            data_id  ...  exp_index  exp_total test_rate  \\\n0          Yahoo_A1real_46_data.out  ...          1        144       0.4   \n1          Yahoo_A1real_46_data.out  ...          2        144       0.4   \n2    YahooA4Benchmark-TS55_data.out  ...          3        144       0.4   \n3    YahooA4Benchmark-TS55_data.out  ...          4        144       0.4   \n4          Yahoo_A1real_31_data.out  ...          5        144       0.4   \n..                              ...  ...        ...        ...       ...   \n139        Yahoo_A1real_46_data.out  ...        140        144       0.4   \n140  YahooA4Benchmark-TS55_data.out  ...        141        144       0.4   \n141  YahooA4Benchmark-TS55_data.out  ...        142        144       0.4   \n142        Yahoo_A1real_31_data.out  ...        143        144       0.4   \n143        Yahoo_A1real_31_data.out  ...        144        144       0.4   \n\n     n_trials     opt_metric data_sample_method  data_sample_rate  parallel  \\\n0           1        VUS_ROC                 -1              -1.0      True   \n1           1  BEST_F1_SCORE                 -1              -1.0      True   \n2           1        VUS_ROC                 -1              -1.0      True   \n3           1  BEST_F1_SCORE                 -1              -1.0      True   \n4           1        VUS_ROC                 -1              -1.0      True   \n..        ...            ...                ...               ...       ...   \n139       140  BEST_F1_SCORE                 -1              -1.0      True   \n140       140        VUS_ROC                 -1              -1.0      True   \n141       140  BEST_F1_SCORE                 -1              -1.0      True   \n142       140        VUS_ROC                 -1              -1.0      True   \n143       140  BEST_F1_SCORE                 -1              -1.0      True   \n\n     total_training_time  model_name  \n0               0.296097         knn  \n1               0.296097         knn  \n2               0.221993         knn  \n3               0.221993         knn  \n4               0.287799         knn  \n..                   ...         ...  \n139          1157.242360          ae  \n140          2429.452672        lstm  \n141          1342.874242        lstm  \n142          1938.575209          ae  \n143          2289.786517          ae  \n\n[144 rows x 26 columns]",
      "text/html": "<div>\n<style scoped>\n    .dataframe tbody tr th:only-of-type {\n        vertical-align: middle;\n    }\n\n    .dataframe tbody tr th {\n        vertical-align: top;\n    }\n\n    .dataframe thead th {\n        text-align: right;\n    }\n</style>\n<table border=\"1\" class=\"dataframe\">\n  <thead>\n    <tr style=\"text-align: right;\">\n      <th></th>\n      <th>opt_result</th>\n      <th>default_result</th>\n      <th>used_walltime</th>\n      <th>used_target_function_walltime</th>\n      <th>conf</th>\n      <th>exp_name</th>\n      <th>job_name</th>\n      <th>out_home</th>\n      <th>dataset_name</th>\n      <th>data_id</th>\n      <th>...</th>\n      <th>exp_index</th>\n      <th>exp_total</th>\n      <th>test_rate</th>\n      <th>n_trials</th>\n      <th>opt_metric</th>\n      <th>data_sample_method</th>\n      <th>data_sample_rate</th>\n      <th>parallel</th>\n      <th>total_training_time</th>\n      <th>model_name</th>\n    </tr>\n  </thead>\n  <tbody>\n    <tr>\n      <th>0</th>\n      <td>0.812032</td>\n      <td>0.812032</td>\n      <td>0.296097</td>\n      <td>0.296097</td>\n      <td>Configuration(values={\\n  'classifier': 'knn',...</td>\n      <td>01_effect_n_trials</td>\n      <td>autoscaling_data_False</td>\n      <td>/remote-home/cs_acmis_sunwu/experiment_results...</td>\n      <td>YAHOO</td>\n      <td>Yahoo_A1real_46_data.out</td>\n      <td>...</td>\n      <td>1</td>\n      <td>144</td>\n      <td>0.4</td>\n      <td>1</td>\n      <td>VUS_ROC</td>\n      <td>-1</td>\n      <td>-1.0</td>\n      <td>True</td>\n      <td>0.296097</td>\n      <td>knn</td>\n    </tr>\n    <tr>\n      <th>1</th>\n      <td>0.458333</td>\n      <td>0.458333</td>\n      <td>0.296097</td>\n      <td>0.296097</td>\n      <td>Configuration(values={\\n  'classifier': 'knn',...</td>\n      <td>01_effect_n_trials</td>\n      <td>autoscaling_data_False</td>\n      <td>/remote-home/cs_acmis_sunwu/experiment_results...</td>\n      <td>YAHOO</td>\n      <td>Yahoo_A1real_46_data.out</td>\n      <td>...</td>\n      <td>2</td>\n      <td>144</td>\n      <td>0.4</td>\n      <td>1</td>\n      <td>BEST_F1_SCORE</td>\n      <td>-1</td>\n      <td>-1.0</td>\n      <td>True</td>\n      <td>0.296097</td>\n      <td>knn</td>\n    </tr>\n    <tr>\n      <th>2</th>\n      <td>0.458853</td>\n      <td>0.458853</td>\n      <td>0.221993</td>\n      <td>0.221993</td>\n      <td>Configuration(values={\\n  'classifier': 'knn',...</td>\n      <td>01_effect_n_trials</td>\n      <td>autoscaling_data_False</td>\n      <td>/remote-home/cs_acmis_sunwu/experiment_results...</td>\n      <td>YAHOO</td>\n      <td>YahooA4Benchmark-TS55_data.out</td>\n      <td>...</td>\n      <td>3</td>\n      <td>144</td>\n      <td>0.4</td>\n      <td>1</td>\n      <td>VUS_ROC</td>\n      <td>-1</td>\n      <td>-1.0</td>\n      <td>True</td>\n      <td>0.221993</td>\n      <td>knn</td>\n    </tr>\n    <tr>\n      <th>3</th>\n      <td>0.004175</td>\n      <td>0.004175</td>\n      <td>0.221993</td>\n      <td>0.221993</td>\n      <td>Configuration(values={\\n  'classifier': 'knn',...</td>\n      <td>01_effect_n_trials</td>\n      <td>autoscaling_data_False</td>\n      <td>/remote-home/cs_acmis_sunwu/experiment_results...</td>\n      <td>YAHOO</td>\n      <td>YahooA4Benchmark-TS55_data.out</td>\n      <td>...</td>\n      <td>4</td>\n      <td>144</td>\n      <td>0.4</td>\n      <td>1</td>\n      <td>BEST_F1_SCORE</td>\n      <td>-1</td>\n      <td>-1.0</td>\n      <td>True</td>\n      <td>0.221993</td>\n      <td>knn</td>\n    </tr>\n    <tr>\n      <th>4</th>\n      <td>0.894112</td>\n      <td>0.894112</td>\n      <td>0.287799</td>\n      <td>0.287799</td>\n      <td>Configuration(values={\\n  'classifier': 'knn',...</td>\n      <td>01_effect_n_trials</td>\n      <td>autoscaling_data_False</td>\n      <td>/remote-home/cs_acmis_sunwu/experiment_results...</td>\n      <td>YAHOO</td>\n      <td>Yahoo_A1real_31_data.out</td>\n      <td>...</td>\n      <td>5</td>\n      <td>144</td>\n      <td>0.4</td>\n      <td>1</td>\n      <td>VUS_ROC</td>\n      <td>-1</td>\n      <td>-1.0</td>\n      <td>True</td>\n      <td>0.287799</td>\n      <td>knn</td>\n    </tr>\n    <tr>\n      <th>...</th>\n      <td>...</td>\n      <td>...</td>\n      <td>...</td>\n      <td>...</td>\n      <td>...</td>\n      <td>...</td>\n      <td>...</td>\n      <td>...</td>\n      <td>...</td>\n      <td>...</td>\n      <td>...</td>\n      <td>...</td>\n      <td>...</td>\n      <td>...</td>\n      <td>...</td>\n      <td>...</td>\n      <td>...</td>\n      <td>...</td>\n      <td>...</td>\n      <td>...</td>\n      <td>...</td>\n    </tr>\n    <tr>\n      <th>139</th>\n      <td>0.919255</td>\n      <td>0.919255</td>\n      <td>1157.242360</td>\n      <td>1157.242360</td>\n      <td>Configuration(values={\\n  'ae_batch_size': 50,...</td>\n      <td>01_effect_n_trials</td>\n      <td>autoscaling_data_False</td>\n      <td>/remote-home/cs_acmis_sunwu/experiment_results...</td>\n      <td>YAHOO</td>\n      <td>Yahoo_A1real_46_data.out</td>\n      <td>...</td>\n      <td>140</td>\n      <td>144</td>\n      <td>0.4</td>\n      <td>140</td>\n      <td>BEST_F1_SCORE</td>\n      <td>-1</td>\n      <td>-1.0</td>\n      <td>True</td>\n      <td>1157.242360</td>\n      <td>ae</td>\n    </tr>\n    <tr>\n      <th>140</th>\n      <td>0.875042</td>\n      <td>0.875042</td>\n      <td>2429.452672</td>\n      <td>2429.452672</td>\n      <td>Configuration(values={\\n  'classifier': 'lstm'...</td>\n      <td>01_effect_n_trials</td>\n      <td>autoscaling_data_False</td>\n      <td>/remote-home/cs_acmis_sunwu/experiment_results...</td>\n      <td>YAHOO</td>\n      <td>YahooA4Benchmark-TS55_data.out</td>\n      <td>...</td>\n      <td>141</td>\n      <td>144</td>\n      <td>0.4</td>\n      <td>140</td>\n      <td>VUS_ROC</td>\n      <td>-1</td>\n      <td>-1.0</td>\n      <td>True</td>\n      <td>2429.452672</td>\n      <td>lstm</td>\n    </tr>\n    <tr>\n      <th>141</th>\n      <td>0.100000</td>\n      <td>0.100000</td>\n      <td>1342.874242</td>\n      <td>1342.874242</td>\n      <td>Configuration(values={\\n  'classifier': 'lstm'...</td>\n      <td>01_effect_n_trials</td>\n      <td>autoscaling_data_False</td>\n      <td>/remote-home/cs_acmis_sunwu/experiment_results...</td>\n      <td>YAHOO</td>\n      <td>YahooA4Benchmark-TS55_data.out</td>\n      <td>...</td>\n      <td>142</td>\n      <td>144</td>\n      <td>0.4</td>\n      <td>140</td>\n      <td>BEST_F1_SCORE</td>\n      <td>-1</td>\n      <td>-1.0</td>\n      <td>True</td>\n      <td>1342.874242</td>\n      <td>lstm</td>\n    </tr>\n    <tr>\n      <th>142</th>\n      <td>0.901890</td>\n      <td>0.901890</td>\n      <td>1938.575209</td>\n      <td>1938.575209</td>\n      <td>Configuration(values={\\n  'ae_batch_size': 131...</td>\n      <td>01_effect_n_trials</td>\n      <td>autoscaling_data_False</td>\n      <td>/remote-home/cs_acmis_sunwu/experiment_results...</td>\n      <td>YAHOO</td>\n      <td>Yahoo_A1real_31_data.out</td>\n      <td>...</td>\n      <td>143</td>\n      <td>144</td>\n      <td>0.4</td>\n      <td>140</td>\n      <td>VUS_ROC</td>\n      <td>-1</td>\n      <td>-1.0</td>\n      <td>True</td>\n      <td>1938.575209</td>\n      <td>ae</td>\n    </tr>\n    <tr>\n      <th>143</th>\n      <td>0.208696</td>\n      <td>0.208696</td>\n      <td>2289.786517</td>\n      <td>2289.786517</td>\n      <td>Configuration(values={\\n  'ae_batch_size': 36,...</td>\n      <td>01_effect_n_trials</td>\n      <td>autoscaling_data_False</td>\n      <td>/remote-home/cs_acmis_sunwu/experiment_results...</td>\n      <td>YAHOO</td>\n      <td>Yahoo_A1real_31_data.out</td>\n      <td>...</td>\n      <td>144</td>\n      <td>144</td>\n      <td>0.4</td>\n      <td>140</td>\n      <td>BEST_F1_SCORE</td>\n      <td>-1</td>\n      <td>-1.0</td>\n      <td>True</td>\n      <td>2289.786517</td>\n      <td>ae</td>\n    </tr>\n  </tbody>\n</table>\n<p>144 rows × 26 columns</p>\n</div>"
     },
     "execution_count": 16,
     "metadata": {},
     "output_type": "execute_result"
    }
   ],
   "source": [
    "\n",
    "# 提取出模型姓名\n",
    "# \"\\'classifier\\': \\'{*}\\',\"\n",
    "pattern = re.compile(\"classifier':\\s*'(.*)',\")\n",
    "\n",
    "\n",
    "# 在文本中搜索匹配的值\n",
    "def get_model_name(_data: pd.Series):\n",
    "    _data['model_name'] = pattern.search(_data['conf']).group(1)\n",
    "    return _data\n",
    "\n",
    "\n",
    "source_df = source_df.apply(get_model_name, axis=1)\n",
    "model_res = source_df\n",
    "model_res"
   ],
   "metadata": {
    "collapsed": false,
    "ExecuteTime": {
     "end_time": "2024-04-15T02:41:39.226867Z",
     "start_time": "2024-04-15T02:41:39.144963Z"
    }
   }
  },
  {
   "cell_type": "markdown",
   "source": [
    "## plot acc and training time\n",
    "我有一组数据, 分了A,B,C等很多组,每个组有抽样前和抽样后,请画一个柱状图, 分别对比a/b/c 抽样前后的均值和方差"
   ],
   "metadata": {
    "collapsed": false
   }
  },
  {
   "cell_type": "code",
   "execution_count": 17,
   "outputs": [
    {
     "data": {
      "text/plain": "                                    mean                                \\\n                              opt_result used_target_function_walltime   \nis_auto_data_scaling               False                         False   \nopt_metric    facade n_trials                                            \nBEST_F1_SCORE random 1          0.263709                      0.439753   \n                     20         0.424897                    175.610201   \n                     40         0.372417                    398.898176   \n                     60         0.442164                    802.302779   \n                     80         0.446941                   1021.249880   \n                     100        0.463255                   1267.364591   \n                     120        0.447559                   1491.870102   \n                     140        0.455031                   1960.695707   \nVUS_ROC       random 1          0.712087                      0.439753   \n                     20         0.860426                    309.163861   \n                     40         0.871180                    557.184444   \n                     60         0.898311                   1006.844360   \n                     80         0.874563                   1199.334508   \n                     100        0.877323                   1510.814935   \n                     120        0.896499                   1951.584461   \n                     140        0.903567                   2304.863225   \n\n                                     std                                \n                              opt_result used_target_function_walltime  \nis_auto_data_scaling               False                         False  \nopt_metric    facade n_trials                                           \nBEST_F1_SCORE random 1          0.257703                      0.239070  \n                     20         0.408535                     65.462472  \n                     40         0.398022                    152.320569  \n                     60         0.396303                    245.472732  \n                     80         0.397703                    484.998724  \n                     100        0.402675                    515.609131  \n                     120        0.412927                    508.448062  \n                     140        0.399615                    946.543557  \nVUS_ROC       random 1          0.228649                      0.239070  \n                     20         0.100390                    276.081335  \n                     40         0.054130                    404.876152  \n                     60         0.032241                    707.747242  \n                     80         0.067864                    761.315903  \n                     100        0.086923                   1045.106137  \n                     120        0.027203                   1118.195865  \n                     140        0.034056                   1235.020483  ",
      "text/html": "<div>\n<style scoped>\n    .dataframe tbody tr th:only-of-type {\n        vertical-align: middle;\n    }\n\n    .dataframe tbody tr th {\n        vertical-align: top;\n    }\n\n    .dataframe thead tr th {\n        text-align: left;\n    }\n\n    .dataframe thead tr:last-of-type th {\n        text-align: right;\n    }\n</style>\n<table border=\"1\" class=\"dataframe\">\n  <thead>\n    <tr>\n      <th></th>\n      <th></th>\n      <th></th>\n      <th colspan=\"2\" halign=\"left\">mean</th>\n      <th colspan=\"2\" halign=\"left\">std</th>\n    </tr>\n    <tr>\n      <th></th>\n      <th></th>\n      <th></th>\n      <th>opt_result</th>\n      <th>used_target_function_walltime</th>\n      <th>opt_result</th>\n      <th>used_target_function_walltime</th>\n    </tr>\n    <tr>\n      <th></th>\n      <th></th>\n      <th>is_auto_data_scaling</th>\n      <th>False</th>\n      <th>False</th>\n      <th>False</th>\n      <th>False</th>\n    </tr>\n    <tr>\n      <th>opt_metric</th>\n      <th>facade</th>\n      <th>n_trials</th>\n      <th></th>\n      <th></th>\n      <th></th>\n      <th></th>\n    </tr>\n  </thead>\n  <tbody>\n    <tr>\n      <th rowspan=\"8\" valign=\"top\">BEST_F1_SCORE</th>\n      <th rowspan=\"8\" valign=\"top\">random</th>\n      <th>1</th>\n      <td>0.263709</td>\n      <td>0.439753</td>\n      <td>0.257703</td>\n      <td>0.239070</td>\n    </tr>\n    <tr>\n      <th>20</th>\n      <td>0.424897</td>\n      <td>175.610201</td>\n      <td>0.408535</td>\n      <td>65.462472</td>\n    </tr>\n    <tr>\n      <th>40</th>\n      <td>0.372417</td>\n      <td>398.898176</td>\n      <td>0.398022</td>\n      <td>152.320569</td>\n    </tr>\n    <tr>\n      <th>60</th>\n      <td>0.442164</td>\n      <td>802.302779</td>\n      <td>0.396303</td>\n      <td>245.472732</td>\n    </tr>\n    <tr>\n      <th>80</th>\n      <td>0.446941</td>\n      <td>1021.249880</td>\n      <td>0.397703</td>\n      <td>484.998724</td>\n    </tr>\n    <tr>\n      <th>100</th>\n      <td>0.463255</td>\n      <td>1267.364591</td>\n      <td>0.402675</td>\n      <td>515.609131</td>\n    </tr>\n    <tr>\n      <th>120</th>\n      <td>0.447559</td>\n      <td>1491.870102</td>\n      <td>0.412927</td>\n      <td>508.448062</td>\n    </tr>\n    <tr>\n      <th>140</th>\n      <td>0.455031</td>\n      <td>1960.695707</td>\n      <td>0.399615</td>\n      <td>946.543557</td>\n    </tr>\n    <tr>\n      <th rowspan=\"8\" valign=\"top\">VUS_ROC</th>\n      <th rowspan=\"8\" valign=\"top\">random</th>\n      <th>1</th>\n      <td>0.712087</td>\n      <td>0.439753</td>\n      <td>0.228649</td>\n      <td>0.239070</td>\n    </tr>\n    <tr>\n      <th>20</th>\n      <td>0.860426</td>\n      <td>309.163861</td>\n      <td>0.100390</td>\n      <td>276.081335</td>\n    </tr>\n    <tr>\n      <th>40</th>\n      <td>0.871180</td>\n      <td>557.184444</td>\n      <td>0.054130</td>\n      <td>404.876152</td>\n    </tr>\n    <tr>\n      <th>60</th>\n      <td>0.898311</td>\n      <td>1006.844360</td>\n      <td>0.032241</td>\n      <td>707.747242</td>\n    </tr>\n    <tr>\n      <th>80</th>\n      <td>0.874563</td>\n      <td>1199.334508</td>\n      <td>0.067864</td>\n      <td>761.315903</td>\n    </tr>\n    <tr>\n      <th>100</th>\n      <td>0.877323</td>\n      <td>1510.814935</td>\n      <td>0.086923</td>\n      <td>1045.106137</td>\n    </tr>\n    <tr>\n      <th>120</th>\n      <td>0.896499</td>\n      <td>1951.584461</td>\n      <td>0.027203</td>\n      <td>1118.195865</td>\n    </tr>\n    <tr>\n      <th>140</th>\n      <td>0.903567</td>\n      <td>2304.863225</td>\n      <td>0.034056</td>\n      <td>1235.020483</td>\n    </tr>\n  </tbody>\n</table>\n</div>"
     },
     "execution_count": 17,
     "metadata": {},
     "output_type": "execute_result"
    }
   ],
   "source": [
    "df = source_df\n",
    "res = pd.pivot_table(df,\n",
    "                     # index=[K.DATASET_NAME, K.DATA_ID, K.N_TRIALS],\n",
    "                     index=[K.OPT_METRIC, K.FACADE, K.N_TRIALS],\n",
    "                     columns=[K.IS_AUTO_DATA_SCALING],\n",
    "                     values=[K.OPT_RESULT,K.USED_TARGET_FUNCTION_WALLTIME],\n",
    "                     aggfunc=['mean', 'std']\n",
    "                     )\n",
    "res"
   ],
   "metadata": {
    "collapsed": false,
    "ExecuteTime": {
     "end_time": "2024-04-15T02:41:39.238370Z",
     "start_time": "2024-04-15T02:41:39.177528Z"
    }
   }
  },
  {
   "cell_type": "code",
   "execution_count": 18,
   "outputs": [
    {
     "data": {
      "text/plain": "Index(['opt_metric', 'facade', 'n_trials', 'mean', 'mean', 'std', 'std'], dtype='object')"
     },
     "execution_count": 18,
     "metadata": {},
     "output_type": "execute_result"
    }
   ],
   "source": [
    "# 或者，如果你想要合并多级列标题\n",
    "# ['opt_metric', 'facade', 'n_trials', 'acc_mean', 'time_mean', 'acc_std', 'time_std']\n",
    "res = res.reset_index()\n",
    "res.columns = res.columns.get_level_values(0)\n",
    "res.columns"
   ],
   "metadata": {
    "collapsed": false,
    "ExecuteTime": {
     "end_time": "2024-04-15T02:41:39.238549Z",
     "start_time": "2024-04-15T02:41:39.196426Z"
    }
   }
  },
  {
   "cell_type": "code",
   "execution_count": 19,
   "outputs": [
    {
     "data": {
      "text/plain": "Index(['opt_metric', 'facade', 'n_trials', 'acc_mean', 'time_mean', 'acc_std',\n       'time_std'],\n      dtype='object')"
     },
     "execution_count": 19,
     "metadata": {},
     "output_type": "execute_result"
    }
   ],
   "source": [
    "res.columns= ['opt_metric', 'facade', 'n_trials', 'acc_mean', 'time_mean', 'acc_std', 'time_std']\n",
    "res.columns"
   ],
   "metadata": {
    "collapsed": false,
    "ExecuteTime": {
     "end_time": "2024-04-15T02:41:39.238653Z",
     "start_time": "2024-04-15T02:41:39.201660Z"
    }
   }
  },
  {
   "cell_type": "code",
   "execution_count": 20,
   "outputs": [],
   "source": [
    "# from pylibs.utils.util_gnuplot import Gnuplot\n",
    "#\n",
    "# for (_opt_metric, _facade), v in res.groupby(by=[K.OPT_METRIC, K.FACADE]):\n",
    "#     Gnuplot.plot_y_error_bar(v.iloc[:, [2, 3, 4]], file_name=f\"effect_n_trials_{_opt_metric}_{_facade}\",\n",
    "#                              title=f\"{_opt_metric}_{_facade}\")"
   ],
   "metadata": {
    "collapsed": false,
    "ExecuteTime": {
     "end_time": "2024-04-15T02:41:39.238697Z",
     "start_time": "2024-04-15T02:41:39.206731Z"
    }
   }
  },
  {
   "cell_type": "code",
   "execution_count": 21,
   "outputs": [
    {
     "name": "stdout",
     "output_type": "stream",
     "text": [
      "util_gnuplot.py:452 INFO - Writing to file /Users/sunwu/SW-Research/pylibs/exps/exp_analysis/02_effect_n_trails/runtime/plot_uts_and_score/effect_n_trials_all.pdf.gnuplot\n"
     ]
    },
    {
     "data": {
      "text/plain": "---- ok\n\n",
      "text/html": "<pre style=\"white-space:pre;overflow-x:auto;line-height:normal;font-family:Menlo,'DejaVu Sans Mono',consolas,'Courier New',monospace\">---- ok\n\n</pre>\n"
     },
     "metadata": {},
     "output_type": "display_data"
    },
    {
     "name": "stdout",
     "output_type": "stream",
     "text": [
      "util_gnuplot.py:456 INFO - Plot successfully!\n",
      "util_gnuplot.py:564 INFO - File is save to /Users/sunwu/SW-Research/pylibs/exps/exp_analysis/02_effect_n_trails/runtime/plot_uts_and_score/best_model_for_each_dataset.pdf\n",
      "util_gnuplot.py:605 INFO - Exit gnuplot successfully\n"
     ]
    }
   ],
   "source": [
    "from pylibs.utils.util_gnuplot import Gnuplot\n",
    "\n",
    "gp = Gnuplot()\n",
    "gp.set_output_pdf(\"best_model_for_each_dataset.pdf\")\n",
    "gp.set_multiplot(columns=2, rows=1, spacing=\"0.1,0.1\")\n",
    "for _index,((_opt_metric, _facade), _item) in enumerate(res.groupby(by=[K.OPT_METRIC, K.FACADE])):\n",
    "    gp.add_data(_item)\n",
    "    # ['opt_metric' 1, 'facade' 2, 'n_trials' 3, 'acc_mean' 4, 'time_mean' 5, 'acc_std' 6, 'time_std' 7]\n",
    "    gp.enable_y2tics()\n",
    "    gp.set(f'set title \"{_opt_metric}_{_facade}\" noenhanced')\n",
    "    gp.set(f'set xr [{_item[\"n_trials\"].min()-10}:{_item[\"n_trials\"].max()+10}]')\n",
    "    # gp.disable_all_label()\n",
    "    if _index ==0:\n",
    "        # gp.set('set yr [0.2:0.7]')\n",
    "        # gp.disable_y2tics()\n",
    "        gp.set_left_y_label(\"Accuracy\")\n",
    "        gp.disable_right_y_label()\n",
    "    else:\n",
    "        # gp.set('set yr [0.5:0.9]')\n",
    "        gp.set_right_y_label(\"Training Time\")\n",
    "        gp.disable_left_y_label()\n",
    "        # gp.disable_ytics()\n",
    "    gp.plot('plot $df using 3:4:6 w yerrorbars lc \"blue\" title \"ACC\", \"\" using 3:4 with l lc \"blue\" title \"\",\"\"  using 3:5:7  axes x1y2 w lp  lc \"red\"  title \"Training Time\"')\n",
    "gp.write_to_file(\"effect_n_trials_all.pdf\")\n",
    "gp.show()"
   ],
   "metadata": {
    "collapsed": false,
    "ExecuteTime": {
     "end_time": "2024-04-15T02:41:39.992152Z",
     "start_time": "2024-04-15T02:41:39.227145Z"
    }
   }
  }
 ],
 "metadata": {
  "kernelspec": {
   "display_name": "Python 3",
   "language": "python",
   "name": "python3"
  },
  "language_info": {
   "codemirror_mode": {
    "name": "ipython",
    "version": 2
   },
   "file_extension": ".py",
   "mimetype": "text/x-python",
   "name": "python",
   "nbconvert_exporter": "python",
   "pygments_lexer": "ipython2",
   "version": "2.7.6"
  }
 },
 "nbformat": 4,
 "nbformat_minor": 0
}
