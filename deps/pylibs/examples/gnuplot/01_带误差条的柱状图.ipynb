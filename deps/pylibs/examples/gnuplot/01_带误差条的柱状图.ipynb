{
 "cells": [
  {
   "cell_type": "markdown",
   "source": [
    "## 效果演示\n",
    "![](./imgs/01_img.png)\n"
   ],
   "metadata": {
    "collapsed": false
   }
  },
  {
   "cell_type": "code",
   "execution_count": 1,
   "outputs": [
    {
     "data": {
      "text/plain": "    opt_result  default_result  total_training_time  \\\n0     0.941462        0.941462           831.052453   \n1     0.885295        0.885295           607.936200   \n2     0.869863        0.869863           788.023187   \n3     0.867624        0.867624          1707.954400   \n4     0.958430        0.958430          2302.601155   \n5     0.957372        0.957372          4322.899231   \n6     0.936080        0.936080          1154.583077   \n7     0.885242        0.885242          1542.507600   \n8     0.894357        0.894357           897.863274   \n9     0.869379        0.869379          3149.411487   \n10    0.904673        0.904673           928.082661   \n11    0.902082        0.902082          1219.577142   \n12    0.845468        0.845468            38.270711   \n13    0.912395        0.912395          1480.125914   \n14    0.828283        0.828283           576.410802   \n15    0.887422        0.887422          1558.866770   \n16    0.901730        0.901730           894.128111   \n17    0.901679        0.901679          1974.981402   \n\n                                                 conf            exp_name  \\\n0   Configuration(values={\\n  'classifier': 'lstm'...  02_overall_results   \n1   Configuration(values={\\n  'classifier': 'ifore...  02_overall_results   \n2   Configuration(values={\\n  'classifier': 'lstm'...  02_overall_results   \n3   Configuration(values={\\n  'classifier': 'lstm'...  02_overall_results   \n4   Configuration(values={\\n  'classifier': 'lstm'...  02_overall_results   \n5   Configuration(values={\\n  'classifier': 'lstm'...  02_overall_results   \n6   Configuration(values={\\n  'classifier': 'lstm'...  02_overall_results   \n7   Configuration(values={\\n  'ae_batch_size': 13,...  02_overall_results   \n8   Configuration(values={\\n  'classifier': 'lstm'...  02_overall_results   \n9   Configuration(values={\\n  'classifier': 'lstm'...  02_overall_results   \n10  Configuration(values={\\n  'ae_batch_size': 192...  02_overall_results   \n11  Configuration(values={\\n  'ae_batch_size': 144...  02_overall_results   \n12  Configuration(values={\\n  'classifier': 'ifore...  02_overall_results   \n13  Configuration(values={\\n  'classifier': 'lstm'...  02_overall_results   \n14  Configuration(values={\\n  'classifier': 'lstm'...  02_overall_results   \n15  Configuration(values={\\n  'classifier': 'lstm'...  02_overall_results   \n16  Configuration(values={\\n  'ae_batch_size': 167...  02_overall_results   \n17  Configuration(values={\\n  'ae_batch_size': 27,...  02_overall_results   \n\n                  job_name                                           out_home  \\\n0    autoscaling_data_True  /remote-home/cs_acmis_sunwu/experiment_results...   \n1   autoscaling_data_False  /remote-home/cs_acmis_sunwu/experiment_results...   \n2    autoscaling_data_True  /remote-home/cs_acmis_sunwu/experiment_results...   \n3   autoscaling_data_False  /remote-home/cs_acmis_sunwu/experiment_results...   \n4    autoscaling_data_True  /remote-home/cs_acmis_sunwu/experiment_results...   \n5   autoscaling_data_False  /remote-home/cs_acmis_sunwu/experiment_results...   \n6    autoscaling_data_True  /remote-home/cs_acmis_sunwu/experiment_results...   \n7   autoscaling_data_False  /remote-home/cs_acmis_sunwu/experiment_results...   \n8    autoscaling_data_True  /remote-home/cs_acmis_sunwu/experiment_results...   \n9   autoscaling_data_False  /remote-home/cs_acmis_sunwu/experiment_results...   \n10   autoscaling_data_True  /remote-home/cs_acmis_sunwu/experiment_results...   \n11  autoscaling_data_False  /remote-home/cs_acmis_sunwu/experiment_results...   \n12   autoscaling_data_True  /remote-home/cs_acmis_sunwu/experiment_results...   \n13  autoscaling_data_False  /remote-home/cs_acmis_sunwu/experiment_results...   \n14   autoscaling_data_True  /remote-home/cs_acmis_sunwu/experiment_results...   \n15  autoscaling_data_False  /remote-home/cs_acmis_sunwu/experiment_results...   \n16   autoscaling_data_True  /remote-home/cs_acmis_sunwu/experiment_results...   \n17  autoscaling_data_False  /remote-home/cs_acmis_sunwu/experiment_results...   \n\n   dataset_name                         data_id  seed  ...  facade  \\\n0         YAHOO        Yahoo_A1real_46_data.out     0  ...  random   \n1         YAHOO        Yahoo_A1real_46_data.out     0  ...  random   \n2         YAHOO  YahooA4Benchmark-TS55_data.out     0  ...  random   \n3         YAHOO  YahooA4Benchmark-TS55_data.out     0  ...  random   \n4         YAHOO        Yahoo_A1real_31_data.out     0  ...  random   \n5         YAHOO        Yahoo_A1real_31_data.out     0  ...  random   \n6         YAHOO        Yahoo_A1real_46_data.out     1  ...  random   \n7         YAHOO        Yahoo_A1real_46_data.out     1  ...  random   \n8         YAHOO  YahooA4Benchmark-TS55_data.out     1  ...  random   \n9         YAHOO  YahooA4Benchmark-TS55_data.out     1  ...  random   \n10        YAHOO        Yahoo_A1real_31_data.out     1  ...  random   \n11        YAHOO        Yahoo_A1real_31_data.out     1  ...  random   \n12        YAHOO        Yahoo_A1real_46_data.out     2  ...  random   \n13        YAHOO        Yahoo_A1real_46_data.out     2  ...  random   \n14        YAHOO  YahooA4Benchmark-TS55_data.out     2  ...  random   \n15        YAHOO  YahooA4Benchmark-TS55_data.out     2  ...  random   \n16        YAHOO        Yahoo_A1real_31_data.out     2  ...  random   \n17        YAHOO        Yahoo_A1real_31_data.out     2  ...  random   \n\n                                              out_dir  exp_index exp_total  \\\n0   /remote-home/cs_acmis_sunwu/experiment_results...          1        18   \n1   /remote-home/cs_acmis_sunwu/experiment_results...          2        18   \n2   /remote-home/cs_acmis_sunwu/experiment_results...          3        18   \n3   /remote-home/cs_acmis_sunwu/experiment_results...          4        18   \n4   /remote-home/cs_acmis_sunwu/experiment_results...          5        18   \n5   /remote-home/cs_acmis_sunwu/experiment_results...          6        18   \n6   /remote-home/cs_acmis_sunwu/experiment_results...          7        18   \n7   /remote-home/cs_acmis_sunwu/experiment_results...          8        18   \n8   /remote-home/cs_acmis_sunwu/experiment_results...          9        18   \n9   /remote-home/cs_acmis_sunwu/experiment_results...         10        18   \n10  /remote-home/cs_acmis_sunwu/experiment_results...         11        18   \n11  /remote-home/cs_acmis_sunwu/experiment_results...         12        18   \n12  /remote-home/cs_acmis_sunwu/experiment_results...         13        18   \n13  /remote-home/cs_acmis_sunwu/experiment_results...         14        18   \n14  /remote-home/cs_acmis_sunwu/experiment_results...         15        18   \n15  /remote-home/cs_acmis_sunwu/experiment_results...         16        18   \n16  /remote-home/cs_acmis_sunwu/experiment_results...         17        18   \n17  /remote-home/cs_acmis_sunwu/experiment_results...         18        18   \n\n   test_rate  n_trials  opt_metric  data_sample_method  data_sample_rate  \\\n0        0.4       120     VUS_ROC              random          0.566667   \n1        0.4       120     VUS_ROC                  -1         -1.000000   \n2        0.4       120     VUS_ROC              random          0.450000   \n3        0.4       120     VUS_ROC                  -1         -1.000000   \n4        0.4       120     VUS_ROC              random          0.566667   \n5        0.4       120     VUS_ROC                  -1         -1.000000   \n6        0.4       120     VUS_ROC              random          0.566667   \n7        0.4       120     VUS_ROC                  -1         -1.000000   \n8        0.4       120     VUS_ROC              random          0.450000   \n9        0.4       120     VUS_ROC                  -1         -1.000000   \n10       0.4       120     VUS_ROC              random          0.566667   \n11       0.4       120     VUS_ROC                  -1         -1.000000   \n12       0.4       120     VUS_ROC              random          0.566667   \n13       0.4       120     VUS_ROC                  -1         -1.000000   \n14       0.4       120     VUS_ROC              random          0.450000   \n15       0.4       120     VUS_ROC                  -1         -1.000000   \n16       0.4       120     VUS_ROC              random          0.566667   \n17       0.4       120     VUS_ROC                  -1         -1.000000   \n\n   parallel  \n0      True  \n1      True  \n2      True  \n3      True  \n4      True  \n5      True  \n6      True  \n7      True  \n8      True  \n9      True  \n10     True  \n11     True  \n12     True  \n13     True  \n14     True  \n15     True  \n16     True  \n17     True  \n\n[18 rows x 23 columns]",
      "text/html": "<div>\n<style scoped>\n    .dataframe tbody tr th:only-of-type {\n        vertical-align: middle;\n    }\n\n    .dataframe tbody tr th {\n        vertical-align: top;\n    }\n\n    .dataframe thead th {\n        text-align: right;\n    }\n</style>\n<table border=\"1\" class=\"dataframe\">\n  <thead>\n    <tr style=\"text-align: right;\">\n      <th></th>\n      <th>opt_result</th>\n      <th>default_result</th>\n      <th>total_training_time</th>\n      <th>conf</th>\n      <th>exp_name</th>\n      <th>job_name</th>\n      <th>out_home</th>\n      <th>dataset_name</th>\n      <th>data_id</th>\n      <th>seed</th>\n      <th>...</th>\n      <th>facade</th>\n      <th>out_dir</th>\n      <th>exp_index</th>\n      <th>exp_total</th>\n      <th>test_rate</th>\n      <th>n_trials</th>\n      <th>opt_metric</th>\n      <th>data_sample_method</th>\n      <th>data_sample_rate</th>\n      <th>parallel</th>\n    </tr>\n  </thead>\n  <tbody>\n    <tr>\n      <th>0</th>\n      <td>0.941462</td>\n      <td>0.941462</td>\n      <td>831.052453</td>\n      <td>Configuration(values={\\n  'classifier': 'lstm'...</td>\n      <td>02_overall_results</td>\n      <td>autoscaling_data_True</td>\n      <td>/remote-home/cs_acmis_sunwu/experiment_results...</td>\n      <td>YAHOO</td>\n      <td>Yahoo_A1real_46_data.out</td>\n      <td>0</td>\n      <td>...</td>\n      <td>random</td>\n      <td>/remote-home/cs_acmis_sunwu/experiment_results...</td>\n      <td>1</td>\n      <td>18</td>\n      <td>0.4</td>\n      <td>120</td>\n      <td>VUS_ROC</td>\n      <td>random</td>\n      <td>0.566667</td>\n      <td>True</td>\n    </tr>\n    <tr>\n      <th>1</th>\n      <td>0.885295</td>\n      <td>0.885295</td>\n      <td>607.936200</td>\n      <td>Configuration(values={\\n  'classifier': 'ifore...</td>\n      <td>02_overall_results</td>\n      <td>autoscaling_data_False</td>\n      <td>/remote-home/cs_acmis_sunwu/experiment_results...</td>\n      <td>YAHOO</td>\n      <td>Yahoo_A1real_46_data.out</td>\n      <td>0</td>\n      <td>...</td>\n      <td>random</td>\n      <td>/remote-home/cs_acmis_sunwu/experiment_results...</td>\n      <td>2</td>\n      <td>18</td>\n      <td>0.4</td>\n      <td>120</td>\n      <td>VUS_ROC</td>\n      <td>-1</td>\n      <td>-1.000000</td>\n      <td>True</td>\n    </tr>\n    <tr>\n      <th>2</th>\n      <td>0.869863</td>\n      <td>0.869863</td>\n      <td>788.023187</td>\n      <td>Configuration(values={\\n  'classifier': 'lstm'...</td>\n      <td>02_overall_results</td>\n      <td>autoscaling_data_True</td>\n      <td>/remote-home/cs_acmis_sunwu/experiment_results...</td>\n      <td>YAHOO</td>\n      <td>YahooA4Benchmark-TS55_data.out</td>\n      <td>0</td>\n      <td>...</td>\n      <td>random</td>\n      <td>/remote-home/cs_acmis_sunwu/experiment_results...</td>\n      <td>3</td>\n      <td>18</td>\n      <td>0.4</td>\n      <td>120</td>\n      <td>VUS_ROC</td>\n      <td>random</td>\n      <td>0.450000</td>\n      <td>True</td>\n    </tr>\n    <tr>\n      <th>3</th>\n      <td>0.867624</td>\n      <td>0.867624</td>\n      <td>1707.954400</td>\n      <td>Configuration(values={\\n  'classifier': 'lstm'...</td>\n      <td>02_overall_results</td>\n      <td>autoscaling_data_False</td>\n      <td>/remote-home/cs_acmis_sunwu/experiment_results...</td>\n      <td>YAHOO</td>\n      <td>YahooA4Benchmark-TS55_data.out</td>\n      <td>0</td>\n      <td>...</td>\n      <td>random</td>\n      <td>/remote-home/cs_acmis_sunwu/experiment_results...</td>\n      <td>4</td>\n      <td>18</td>\n      <td>0.4</td>\n      <td>120</td>\n      <td>VUS_ROC</td>\n      <td>-1</td>\n      <td>-1.000000</td>\n      <td>True</td>\n    </tr>\n    <tr>\n      <th>4</th>\n      <td>0.958430</td>\n      <td>0.958430</td>\n      <td>2302.601155</td>\n      <td>Configuration(values={\\n  'classifier': 'lstm'...</td>\n      <td>02_overall_results</td>\n      <td>autoscaling_data_True</td>\n      <td>/remote-home/cs_acmis_sunwu/experiment_results...</td>\n      <td>YAHOO</td>\n      <td>Yahoo_A1real_31_data.out</td>\n      <td>0</td>\n      <td>...</td>\n      <td>random</td>\n      <td>/remote-home/cs_acmis_sunwu/experiment_results...</td>\n      <td>5</td>\n      <td>18</td>\n      <td>0.4</td>\n      <td>120</td>\n      <td>VUS_ROC</td>\n      <td>random</td>\n      <td>0.566667</td>\n      <td>True</td>\n    </tr>\n    <tr>\n      <th>5</th>\n      <td>0.957372</td>\n      <td>0.957372</td>\n      <td>4322.899231</td>\n      <td>Configuration(values={\\n  'classifier': 'lstm'...</td>\n      <td>02_overall_results</td>\n      <td>autoscaling_data_False</td>\n      <td>/remote-home/cs_acmis_sunwu/experiment_results...</td>\n      <td>YAHOO</td>\n      <td>Yahoo_A1real_31_data.out</td>\n      <td>0</td>\n      <td>...</td>\n      <td>random</td>\n      <td>/remote-home/cs_acmis_sunwu/experiment_results...</td>\n      <td>6</td>\n      <td>18</td>\n      <td>0.4</td>\n      <td>120</td>\n      <td>VUS_ROC</td>\n      <td>-1</td>\n      <td>-1.000000</td>\n      <td>True</td>\n    </tr>\n    <tr>\n      <th>6</th>\n      <td>0.936080</td>\n      <td>0.936080</td>\n      <td>1154.583077</td>\n      <td>Configuration(values={\\n  'classifier': 'lstm'...</td>\n      <td>02_overall_results</td>\n      <td>autoscaling_data_True</td>\n      <td>/remote-home/cs_acmis_sunwu/experiment_results...</td>\n      <td>YAHOO</td>\n      <td>Yahoo_A1real_46_data.out</td>\n      <td>1</td>\n      <td>...</td>\n      <td>random</td>\n      <td>/remote-home/cs_acmis_sunwu/experiment_results...</td>\n      <td>7</td>\n      <td>18</td>\n      <td>0.4</td>\n      <td>120</td>\n      <td>VUS_ROC</td>\n      <td>random</td>\n      <td>0.566667</td>\n      <td>True</td>\n    </tr>\n    <tr>\n      <th>7</th>\n      <td>0.885242</td>\n      <td>0.885242</td>\n      <td>1542.507600</td>\n      <td>Configuration(values={\\n  'ae_batch_size': 13,...</td>\n      <td>02_overall_results</td>\n      <td>autoscaling_data_False</td>\n      <td>/remote-home/cs_acmis_sunwu/experiment_results...</td>\n      <td>YAHOO</td>\n      <td>Yahoo_A1real_46_data.out</td>\n      <td>1</td>\n      <td>...</td>\n      <td>random</td>\n      <td>/remote-home/cs_acmis_sunwu/experiment_results...</td>\n      <td>8</td>\n      <td>18</td>\n      <td>0.4</td>\n      <td>120</td>\n      <td>VUS_ROC</td>\n      <td>-1</td>\n      <td>-1.000000</td>\n      <td>True</td>\n    </tr>\n    <tr>\n      <th>8</th>\n      <td>0.894357</td>\n      <td>0.894357</td>\n      <td>897.863274</td>\n      <td>Configuration(values={\\n  'classifier': 'lstm'...</td>\n      <td>02_overall_results</td>\n      <td>autoscaling_data_True</td>\n      <td>/remote-home/cs_acmis_sunwu/experiment_results...</td>\n      <td>YAHOO</td>\n      <td>YahooA4Benchmark-TS55_data.out</td>\n      <td>1</td>\n      <td>...</td>\n      <td>random</td>\n      <td>/remote-home/cs_acmis_sunwu/experiment_results...</td>\n      <td>9</td>\n      <td>18</td>\n      <td>0.4</td>\n      <td>120</td>\n      <td>VUS_ROC</td>\n      <td>random</td>\n      <td>0.450000</td>\n      <td>True</td>\n    </tr>\n    <tr>\n      <th>9</th>\n      <td>0.869379</td>\n      <td>0.869379</td>\n      <td>3149.411487</td>\n      <td>Configuration(values={\\n  'classifier': 'lstm'...</td>\n      <td>02_overall_results</td>\n      <td>autoscaling_data_False</td>\n      <td>/remote-home/cs_acmis_sunwu/experiment_results...</td>\n      <td>YAHOO</td>\n      <td>YahooA4Benchmark-TS55_data.out</td>\n      <td>1</td>\n      <td>...</td>\n      <td>random</td>\n      <td>/remote-home/cs_acmis_sunwu/experiment_results...</td>\n      <td>10</td>\n      <td>18</td>\n      <td>0.4</td>\n      <td>120</td>\n      <td>VUS_ROC</td>\n      <td>-1</td>\n      <td>-1.000000</td>\n      <td>True</td>\n    </tr>\n    <tr>\n      <th>10</th>\n      <td>0.904673</td>\n      <td>0.904673</td>\n      <td>928.082661</td>\n      <td>Configuration(values={\\n  'ae_batch_size': 192...</td>\n      <td>02_overall_results</td>\n      <td>autoscaling_data_True</td>\n      <td>/remote-home/cs_acmis_sunwu/experiment_results...</td>\n      <td>YAHOO</td>\n      <td>Yahoo_A1real_31_data.out</td>\n      <td>1</td>\n      <td>...</td>\n      <td>random</td>\n      <td>/remote-home/cs_acmis_sunwu/experiment_results...</td>\n      <td>11</td>\n      <td>18</td>\n      <td>0.4</td>\n      <td>120</td>\n      <td>VUS_ROC</td>\n      <td>random</td>\n      <td>0.566667</td>\n      <td>True</td>\n    </tr>\n    <tr>\n      <th>11</th>\n      <td>0.902082</td>\n      <td>0.902082</td>\n      <td>1219.577142</td>\n      <td>Configuration(values={\\n  'ae_batch_size': 144...</td>\n      <td>02_overall_results</td>\n      <td>autoscaling_data_False</td>\n      <td>/remote-home/cs_acmis_sunwu/experiment_results...</td>\n      <td>YAHOO</td>\n      <td>Yahoo_A1real_31_data.out</td>\n      <td>1</td>\n      <td>...</td>\n      <td>random</td>\n      <td>/remote-home/cs_acmis_sunwu/experiment_results...</td>\n      <td>12</td>\n      <td>18</td>\n      <td>0.4</td>\n      <td>120</td>\n      <td>VUS_ROC</td>\n      <td>-1</td>\n      <td>-1.000000</td>\n      <td>True</td>\n    </tr>\n    <tr>\n      <th>12</th>\n      <td>0.845468</td>\n      <td>0.845468</td>\n      <td>38.270711</td>\n      <td>Configuration(values={\\n  'classifier': 'ifore...</td>\n      <td>02_overall_results</td>\n      <td>autoscaling_data_True</td>\n      <td>/remote-home/cs_acmis_sunwu/experiment_results...</td>\n      <td>YAHOO</td>\n      <td>Yahoo_A1real_46_data.out</td>\n      <td>2</td>\n      <td>...</td>\n      <td>random</td>\n      <td>/remote-home/cs_acmis_sunwu/experiment_results...</td>\n      <td>13</td>\n      <td>18</td>\n      <td>0.4</td>\n      <td>120</td>\n      <td>VUS_ROC</td>\n      <td>random</td>\n      <td>0.566667</td>\n      <td>True</td>\n    </tr>\n    <tr>\n      <th>13</th>\n      <td>0.912395</td>\n      <td>0.912395</td>\n      <td>1480.125914</td>\n      <td>Configuration(values={\\n  'classifier': 'lstm'...</td>\n      <td>02_overall_results</td>\n      <td>autoscaling_data_False</td>\n      <td>/remote-home/cs_acmis_sunwu/experiment_results...</td>\n      <td>YAHOO</td>\n      <td>Yahoo_A1real_46_data.out</td>\n      <td>2</td>\n      <td>...</td>\n      <td>random</td>\n      <td>/remote-home/cs_acmis_sunwu/experiment_results...</td>\n      <td>14</td>\n      <td>18</td>\n      <td>0.4</td>\n      <td>120</td>\n      <td>VUS_ROC</td>\n      <td>-1</td>\n      <td>-1.000000</td>\n      <td>True</td>\n    </tr>\n    <tr>\n      <th>14</th>\n      <td>0.828283</td>\n      <td>0.828283</td>\n      <td>576.410802</td>\n      <td>Configuration(values={\\n  'classifier': 'lstm'...</td>\n      <td>02_overall_results</td>\n      <td>autoscaling_data_True</td>\n      <td>/remote-home/cs_acmis_sunwu/experiment_results...</td>\n      <td>YAHOO</td>\n      <td>YahooA4Benchmark-TS55_data.out</td>\n      <td>2</td>\n      <td>...</td>\n      <td>random</td>\n      <td>/remote-home/cs_acmis_sunwu/experiment_results...</td>\n      <td>15</td>\n      <td>18</td>\n      <td>0.4</td>\n      <td>120</td>\n      <td>VUS_ROC</td>\n      <td>random</td>\n      <td>0.450000</td>\n      <td>True</td>\n    </tr>\n    <tr>\n      <th>15</th>\n      <td>0.887422</td>\n      <td>0.887422</td>\n      <td>1558.866770</td>\n      <td>Configuration(values={\\n  'classifier': 'lstm'...</td>\n      <td>02_overall_results</td>\n      <td>autoscaling_data_False</td>\n      <td>/remote-home/cs_acmis_sunwu/experiment_results...</td>\n      <td>YAHOO</td>\n      <td>YahooA4Benchmark-TS55_data.out</td>\n      <td>2</td>\n      <td>...</td>\n      <td>random</td>\n      <td>/remote-home/cs_acmis_sunwu/experiment_results...</td>\n      <td>16</td>\n      <td>18</td>\n      <td>0.4</td>\n      <td>120</td>\n      <td>VUS_ROC</td>\n      <td>-1</td>\n      <td>-1.000000</td>\n      <td>True</td>\n    </tr>\n    <tr>\n      <th>16</th>\n      <td>0.901730</td>\n      <td>0.901730</td>\n      <td>894.128111</td>\n      <td>Configuration(values={\\n  'ae_batch_size': 167...</td>\n      <td>02_overall_results</td>\n      <td>autoscaling_data_True</td>\n      <td>/remote-home/cs_acmis_sunwu/experiment_results...</td>\n      <td>YAHOO</td>\n      <td>Yahoo_A1real_31_data.out</td>\n      <td>2</td>\n      <td>...</td>\n      <td>random</td>\n      <td>/remote-home/cs_acmis_sunwu/experiment_results...</td>\n      <td>17</td>\n      <td>18</td>\n      <td>0.4</td>\n      <td>120</td>\n      <td>VUS_ROC</td>\n      <td>random</td>\n      <td>0.566667</td>\n      <td>True</td>\n    </tr>\n    <tr>\n      <th>17</th>\n      <td>0.901679</td>\n      <td>0.901679</td>\n      <td>1974.981402</td>\n      <td>Configuration(values={\\n  'ae_batch_size': 27,...</td>\n      <td>02_overall_results</td>\n      <td>autoscaling_data_False</td>\n      <td>/remote-home/cs_acmis_sunwu/experiment_results...</td>\n      <td>YAHOO</td>\n      <td>Yahoo_A1real_31_data.out</td>\n      <td>2</td>\n      <td>...</td>\n      <td>random</td>\n      <td>/remote-home/cs_acmis_sunwu/experiment_results...</td>\n      <td>18</td>\n      <td>18</td>\n      <td>0.4</td>\n      <td>120</td>\n      <td>VUS_ROC</td>\n      <td>-1</td>\n      <td>-1.000000</td>\n      <td>True</td>\n    </tr>\n  </tbody>\n</table>\n<p>18 rows × 23 columns</p>\n</div>"
     },
     "execution_count": 1,
     "metadata": {},
     "output_type": "execute_result"
    }
   ],
   "source": [
    "import pandas as pd\n",
    "\n",
    "from pylibs.uts_dataset.util_const import K\n",
    "import re\n",
    "\n",
    "source_df = pd.read_csv(\"datas/02_overall_results_20240414_070355_is_debug_False.csv\")\n",
    "source_df"
   ],
   "metadata": {
    "collapsed": false,
    "ExecuteTime": {
     "end_time": "2024-04-15T02:38:26.493789Z",
     "start_time": "2024-04-15T02:38:26.183010Z"
    }
   }
  },
  {
   "cell_type": "code",
   "execution_count": 2,
   "metadata": {
    "collapsed": true,
    "ExecuteTime": {
     "end_time": "2024-04-15T02:38:26.530053Z",
     "start_time": "2024-04-15T02:38:26.511489Z"
    }
   },
   "outputs": [
    {
     "data": {
      "text/plain": "    opt_result  default_result  total_training_time  \\\n0     0.941462        0.941462           831.052453   \n1     0.885295        0.885295           607.936200   \n2     0.869863        0.869863           788.023187   \n3     0.867624        0.867624          1707.954400   \n4     0.958430        0.958430          2302.601155   \n5     0.957372        0.957372          4322.899231   \n6     0.936080        0.936080          1154.583077   \n7     0.885242        0.885242          1542.507600   \n8     0.894357        0.894357           897.863274   \n9     0.869379        0.869379          3149.411487   \n10    0.904673        0.904673           928.082661   \n11    0.902082        0.902082          1219.577142   \n12    0.845468        0.845468            38.270711   \n13    0.912395        0.912395          1480.125914   \n14    0.828283        0.828283           576.410802   \n15    0.887422        0.887422          1558.866770   \n16    0.901730        0.901730           894.128111   \n17    0.901679        0.901679          1974.981402   \n\n                                                 conf            exp_name  \\\n0   Configuration(values={\\n  'classifier': 'lstm'...  02_overall_results   \n1   Configuration(values={\\n  'classifier': 'ifore...  02_overall_results   \n2   Configuration(values={\\n  'classifier': 'lstm'...  02_overall_results   \n3   Configuration(values={\\n  'classifier': 'lstm'...  02_overall_results   \n4   Configuration(values={\\n  'classifier': 'lstm'...  02_overall_results   \n5   Configuration(values={\\n  'classifier': 'lstm'...  02_overall_results   \n6   Configuration(values={\\n  'classifier': 'lstm'...  02_overall_results   \n7   Configuration(values={\\n  'ae_batch_size': 13,...  02_overall_results   \n8   Configuration(values={\\n  'classifier': 'lstm'...  02_overall_results   \n9   Configuration(values={\\n  'classifier': 'lstm'...  02_overall_results   \n10  Configuration(values={\\n  'ae_batch_size': 192...  02_overall_results   \n11  Configuration(values={\\n  'ae_batch_size': 144...  02_overall_results   \n12  Configuration(values={\\n  'classifier': 'ifore...  02_overall_results   \n13  Configuration(values={\\n  'classifier': 'lstm'...  02_overall_results   \n14  Configuration(values={\\n  'classifier': 'lstm'...  02_overall_results   \n15  Configuration(values={\\n  'classifier': 'lstm'...  02_overall_results   \n16  Configuration(values={\\n  'ae_batch_size': 167...  02_overall_results   \n17  Configuration(values={\\n  'ae_batch_size': 27,...  02_overall_results   \n\n                  job_name                                           out_home  \\\n0    autoscaling_data_True  /remote-home/cs_acmis_sunwu/experiment_results...   \n1   autoscaling_data_False  /remote-home/cs_acmis_sunwu/experiment_results...   \n2    autoscaling_data_True  /remote-home/cs_acmis_sunwu/experiment_results...   \n3   autoscaling_data_False  /remote-home/cs_acmis_sunwu/experiment_results...   \n4    autoscaling_data_True  /remote-home/cs_acmis_sunwu/experiment_results...   \n5   autoscaling_data_False  /remote-home/cs_acmis_sunwu/experiment_results...   \n6    autoscaling_data_True  /remote-home/cs_acmis_sunwu/experiment_results...   \n7   autoscaling_data_False  /remote-home/cs_acmis_sunwu/experiment_results...   \n8    autoscaling_data_True  /remote-home/cs_acmis_sunwu/experiment_results...   \n9   autoscaling_data_False  /remote-home/cs_acmis_sunwu/experiment_results...   \n10   autoscaling_data_True  /remote-home/cs_acmis_sunwu/experiment_results...   \n11  autoscaling_data_False  /remote-home/cs_acmis_sunwu/experiment_results...   \n12   autoscaling_data_True  /remote-home/cs_acmis_sunwu/experiment_results...   \n13  autoscaling_data_False  /remote-home/cs_acmis_sunwu/experiment_results...   \n14   autoscaling_data_True  /remote-home/cs_acmis_sunwu/experiment_results...   \n15  autoscaling_data_False  /remote-home/cs_acmis_sunwu/experiment_results...   \n16   autoscaling_data_True  /remote-home/cs_acmis_sunwu/experiment_results...   \n17  autoscaling_data_False  /remote-home/cs_acmis_sunwu/experiment_results...   \n\n   dataset_name                         data_id  seed  ...  \\\n0         YAHOO        Yahoo_A1real_46_data.out     0  ...   \n1         YAHOO        Yahoo_A1real_46_data.out     0  ...   \n2         YAHOO  YahooA4Benchmark-TS55_data.out     0  ...   \n3         YAHOO  YahooA4Benchmark-TS55_data.out     0  ...   \n4         YAHOO        Yahoo_A1real_31_data.out     0  ...   \n5         YAHOO        Yahoo_A1real_31_data.out     0  ...   \n6         YAHOO        Yahoo_A1real_46_data.out     1  ...   \n7         YAHOO        Yahoo_A1real_46_data.out     1  ...   \n8         YAHOO  YahooA4Benchmark-TS55_data.out     1  ...   \n9         YAHOO  YahooA4Benchmark-TS55_data.out     1  ...   \n10        YAHOO        Yahoo_A1real_31_data.out     1  ...   \n11        YAHOO        Yahoo_A1real_31_data.out     1  ...   \n12        YAHOO        Yahoo_A1real_46_data.out     2  ...   \n13        YAHOO        Yahoo_A1real_46_data.out     2  ...   \n14        YAHOO  YahooA4Benchmark-TS55_data.out     2  ...   \n15        YAHOO  YahooA4Benchmark-TS55_data.out     2  ...   \n16        YAHOO        Yahoo_A1real_31_data.out     2  ...   \n17        YAHOO        Yahoo_A1real_31_data.out     2  ...   \n\n                                              out_dir exp_index  exp_total  \\\n0   /remote-home/cs_acmis_sunwu/experiment_results...         1         18   \n1   /remote-home/cs_acmis_sunwu/experiment_results...         2         18   \n2   /remote-home/cs_acmis_sunwu/experiment_results...         3         18   \n3   /remote-home/cs_acmis_sunwu/experiment_results...         4         18   \n4   /remote-home/cs_acmis_sunwu/experiment_results...         5         18   \n5   /remote-home/cs_acmis_sunwu/experiment_results...         6         18   \n6   /remote-home/cs_acmis_sunwu/experiment_results...         7         18   \n7   /remote-home/cs_acmis_sunwu/experiment_results...         8         18   \n8   /remote-home/cs_acmis_sunwu/experiment_results...         9         18   \n9   /remote-home/cs_acmis_sunwu/experiment_results...        10         18   \n10  /remote-home/cs_acmis_sunwu/experiment_results...        11         18   \n11  /remote-home/cs_acmis_sunwu/experiment_results...        12         18   \n12  /remote-home/cs_acmis_sunwu/experiment_results...        13         18   \n13  /remote-home/cs_acmis_sunwu/experiment_results...        14         18   \n14  /remote-home/cs_acmis_sunwu/experiment_results...        15         18   \n15  /remote-home/cs_acmis_sunwu/experiment_results...        16         18   \n16  /remote-home/cs_acmis_sunwu/experiment_results...        17         18   \n17  /remote-home/cs_acmis_sunwu/experiment_results...        18         18   \n\n   test_rate n_trials  opt_metric  data_sample_method  data_sample_rate  \\\n0        0.4      120     VUS_ROC              random          0.566667   \n1        0.4      120     VUS_ROC                  -1         -1.000000   \n2        0.4      120     VUS_ROC              random          0.450000   \n3        0.4      120     VUS_ROC                  -1         -1.000000   \n4        0.4      120     VUS_ROC              random          0.566667   \n5        0.4      120     VUS_ROC                  -1         -1.000000   \n6        0.4      120     VUS_ROC              random          0.566667   \n7        0.4      120     VUS_ROC                  -1         -1.000000   \n8        0.4      120     VUS_ROC              random          0.450000   \n9        0.4      120     VUS_ROC                  -1         -1.000000   \n10       0.4      120     VUS_ROC              random          0.566667   \n11       0.4      120     VUS_ROC                  -1         -1.000000   \n12       0.4      120     VUS_ROC              random          0.566667   \n13       0.4      120     VUS_ROC                  -1         -1.000000   \n14       0.4      120     VUS_ROC              random          0.450000   \n15       0.4      120     VUS_ROC                  -1         -1.000000   \n16       0.4      120     VUS_ROC              random          0.566667   \n17       0.4      120     VUS_ROC                  -1         -1.000000   \n\n    parallel model_name  \n0       True       lstm  \n1       True    iforest  \n2       True       lstm  \n3       True       lstm  \n4       True       lstm  \n5       True       lstm  \n6       True       lstm  \n7       True         ae  \n8       True       lstm  \n9       True       lstm  \n10      True         ae  \n11      True         ae  \n12      True    iforest  \n13      True       lstm  \n14      True       lstm  \n15      True       lstm  \n16      True         ae  \n17      True         ae  \n\n[18 rows x 24 columns]",
      "text/html": "<div>\n<style scoped>\n    .dataframe tbody tr th:only-of-type {\n        vertical-align: middle;\n    }\n\n    .dataframe tbody tr th {\n        vertical-align: top;\n    }\n\n    .dataframe thead th {\n        text-align: right;\n    }\n</style>\n<table border=\"1\" class=\"dataframe\">\n  <thead>\n    <tr style=\"text-align: right;\">\n      <th></th>\n      <th>opt_result</th>\n      <th>default_result</th>\n      <th>total_training_time</th>\n      <th>conf</th>\n      <th>exp_name</th>\n      <th>job_name</th>\n      <th>out_home</th>\n      <th>dataset_name</th>\n      <th>data_id</th>\n      <th>seed</th>\n      <th>...</th>\n      <th>out_dir</th>\n      <th>exp_index</th>\n      <th>exp_total</th>\n      <th>test_rate</th>\n      <th>n_trials</th>\n      <th>opt_metric</th>\n      <th>data_sample_method</th>\n      <th>data_sample_rate</th>\n      <th>parallel</th>\n      <th>model_name</th>\n    </tr>\n  </thead>\n  <tbody>\n    <tr>\n      <th>0</th>\n      <td>0.941462</td>\n      <td>0.941462</td>\n      <td>831.052453</td>\n      <td>Configuration(values={\\n  'classifier': 'lstm'...</td>\n      <td>02_overall_results</td>\n      <td>autoscaling_data_True</td>\n      <td>/remote-home/cs_acmis_sunwu/experiment_results...</td>\n      <td>YAHOO</td>\n      <td>Yahoo_A1real_46_data.out</td>\n      <td>0</td>\n      <td>...</td>\n      <td>/remote-home/cs_acmis_sunwu/experiment_results...</td>\n      <td>1</td>\n      <td>18</td>\n      <td>0.4</td>\n      <td>120</td>\n      <td>VUS_ROC</td>\n      <td>random</td>\n      <td>0.566667</td>\n      <td>True</td>\n      <td>lstm</td>\n    </tr>\n    <tr>\n      <th>1</th>\n      <td>0.885295</td>\n      <td>0.885295</td>\n      <td>607.936200</td>\n      <td>Configuration(values={\\n  'classifier': 'ifore...</td>\n      <td>02_overall_results</td>\n      <td>autoscaling_data_False</td>\n      <td>/remote-home/cs_acmis_sunwu/experiment_results...</td>\n      <td>YAHOO</td>\n      <td>Yahoo_A1real_46_data.out</td>\n      <td>0</td>\n      <td>...</td>\n      <td>/remote-home/cs_acmis_sunwu/experiment_results...</td>\n      <td>2</td>\n      <td>18</td>\n      <td>0.4</td>\n      <td>120</td>\n      <td>VUS_ROC</td>\n      <td>-1</td>\n      <td>-1.000000</td>\n      <td>True</td>\n      <td>iforest</td>\n    </tr>\n    <tr>\n      <th>2</th>\n      <td>0.869863</td>\n      <td>0.869863</td>\n      <td>788.023187</td>\n      <td>Configuration(values={\\n  'classifier': 'lstm'...</td>\n      <td>02_overall_results</td>\n      <td>autoscaling_data_True</td>\n      <td>/remote-home/cs_acmis_sunwu/experiment_results...</td>\n      <td>YAHOO</td>\n      <td>YahooA4Benchmark-TS55_data.out</td>\n      <td>0</td>\n      <td>...</td>\n      <td>/remote-home/cs_acmis_sunwu/experiment_results...</td>\n      <td>3</td>\n      <td>18</td>\n      <td>0.4</td>\n      <td>120</td>\n      <td>VUS_ROC</td>\n      <td>random</td>\n      <td>0.450000</td>\n      <td>True</td>\n      <td>lstm</td>\n    </tr>\n    <tr>\n      <th>3</th>\n      <td>0.867624</td>\n      <td>0.867624</td>\n      <td>1707.954400</td>\n      <td>Configuration(values={\\n  'classifier': 'lstm'...</td>\n      <td>02_overall_results</td>\n      <td>autoscaling_data_False</td>\n      <td>/remote-home/cs_acmis_sunwu/experiment_results...</td>\n      <td>YAHOO</td>\n      <td>YahooA4Benchmark-TS55_data.out</td>\n      <td>0</td>\n      <td>...</td>\n      <td>/remote-home/cs_acmis_sunwu/experiment_results...</td>\n      <td>4</td>\n      <td>18</td>\n      <td>0.4</td>\n      <td>120</td>\n      <td>VUS_ROC</td>\n      <td>-1</td>\n      <td>-1.000000</td>\n      <td>True</td>\n      <td>lstm</td>\n    </tr>\n    <tr>\n      <th>4</th>\n      <td>0.958430</td>\n      <td>0.958430</td>\n      <td>2302.601155</td>\n      <td>Configuration(values={\\n  'classifier': 'lstm'...</td>\n      <td>02_overall_results</td>\n      <td>autoscaling_data_True</td>\n      <td>/remote-home/cs_acmis_sunwu/experiment_results...</td>\n      <td>YAHOO</td>\n      <td>Yahoo_A1real_31_data.out</td>\n      <td>0</td>\n      <td>...</td>\n      <td>/remote-home/cs_acmis_sunwu/experiment_results...</td>\n      <td>5</td>\n      <td>18</td>\n      <td>0.4</td>\n      <td>120</td>\n      <td>VUS_ROC</td>\n      <td>random</td>\n      <td>0.566667</td>\n      <td>True</td>\n      <td>lstm</td>\n    </tr>\n    <tr>\n      <th>5</th>\n      <td>0.957372</td>\n      <td>0.957372</td>\n      <td>4322.899231</td>\n      <td>Configuration(values={\\n  'classifier': 'lstm'...</td>\n      <td>02_overall_results</td>\n      <td>autoscaling_data_False</td>\n      <td>/remote-home/cs_acmis_sunwu/experiment_results...</td>\n      <td>YAHOO</td>\n      <td>Yahoo_A1real_31_data.out</td>\n      <td>0</td>\n      <td>...</td>\n      <td>/remote-home/cs_acmis_sunwu/experiment_results...</td>\n      <td>6</td>\n      <td>18</td>\n      <td>0.4</td>\n      <td>120</td>\n      <td>VUS_ROC</td>\n      <td>-1</td>\n      <td>-1.000000</td>\n      <td>True</td>\n      <td>lstm</td>\n    </tr>\n    <tr>\n      <th>6</th>\n      <td>0.936080</td>\n      <td>0.936080</td>\n      <td>1154.583077</td>\n      <td>Configuration(values={\\n  'classifier': 'lstm'...</td>\n      <td>02_overall_results</td>\n      <td>autoscaling_data_True</td>\n      <td>/remote-home/cs_acmis_sunwu/experiment_results...</td>\n      <td>YAHOO</td>\n      <td>Yahoo_A1real_46_data.out</td>\n      <td>1</td>\n      <td>...</td>\n      <td>/remote-home/cs_acmis_sunwu/experiment_results...</td>\n      <td>7</td>\n      <td>18</td>\n      <td>0.4</td>\n      <td>120</td>\n      <td>VUS_ROC</td>\n      <td>random</td>\n      <td>0.566667</td>\n      <td>True</td>\n      <td>lstm</td>\n    </tr>\n    <tr>\n      <th>7</th>\n      <td>0.885242</td>\n      <td>0.885242</td>\n      <td>1542.507600</td>\n      <td>Configuration(values={\\n  'ae_batch_size': 13,...</td>\n      <td>02_overall_results</td>\n      <td>autoscaling_data_False</td>\n      <td>/remote-home/cs_acmis_sunwu/experiment_results...</td>\n      <td>YAHOO</td>\n      <td>Yahoo_A1real_46_data.out</td>\n      <td>1</td>\n      <td>...</td>\n      <td>/remote-home/cs_acmis_sunwu/experiment_results...</td>\n      <td>8</td>\n      <td>18</td>\n      <td>0.4</td>\n      <td>120</td>\n      <td>VUS_ROC</td>\n      <td>-1</td>\n      <td>-1.000000</td>\n      <td>True</td>\n      <td>ae</td>\n    </tr>\n    <tr>\n      <th>8</th>\n      <td>0.894357</td>\n      <td>0.894357</td>\n      <td>897.863274</td>\n      <td>Configuration(values={\\n  'classifier': 'lstm'...</td>\n      <td>02_overall_results</td>\n      <td>autoscaling_data_True</td>\n      <td>/remote-home/cs_acmis_sunwu/experiment_results...</td>\n      <td>YAHOO</td>\n      <td>YahooA4Benchmark-TS55_data.out</td>\n      <td>1</td>\n      <td>...</td>\n      <td>/remote-home/cs_acmis_sunwu/experiment_results...</td>\n      <td>9</td>\n      <td>18</td>\n      <td>0.4</td>\n      <td>120</td>\n      <td>VUS_ROC</td>\n      <td>random</td>\n      <td>0.450000</td>\n      <td>True</td>\n      <td>lstm</td>\n    </tr>\n    <tr>\n      <th>9</th>\n      <td>0.869379</td>\n      <td>0.869379</td>\n      <td>3149.411487</td>\n      <td>Configuration(values={\\n  'classifier': 'lstm'...</td>\n      <td>02_overall_results</td>\n      <td>autoscaling_data_False</td>\n      <td>/remote-home/cs_acmis_sunwu/experiment_results...</td>\n      <td>YAHOO</td>\n      <td>YahooA4Benchmark-TS55_data.out</td>\n      <td>1</td>\n      <td>...</td>\n      <td>/remote-home/cs_acmis_sunwu/experiment_results...</td>\n      <td>10</td>\n      <td>18</td>\n      <td>0.4</td>\n      <td>120</td>\n      <td>VUS_ROC</td>\n      <td>-1</td>\n      <td>-1.000000</td>\n      <td>True</td>\n      <td>lstm</td>\n    </tr>\n    <tr>\n      <th>10</th>\n      <td>0.904673</td>\n      <td>0.904673</td>\n      <td>928.082661</td>\n      <td>Configuration(values={\\n  'ae_batch_size': 192...</td>\n      <td>02_overall_results</td>\n      <td>autoscaling_data_True</td>\n      <td>/remote-home/cs_acmis_sunwu/experiment_results...</td>\n      <td>YAHOO</td>\n      <td>Yahoo_A1real_31_data.out</td>\n      <td>1</td>\n      <td>...</td>\n      <td>/remote-home/cs_acmis_sunwu/experiment_results...</td>\n      <td>11</td>\n      <td>18</td>\n      <td>0.4</td>\n      <td>120</td>\n      <td>VUS_ROC</td>\n      <td>random</td>\n      <td>0.566667</td>\n      <td>True</td>\n      <td>ae</td>\n    </tr>\n    <tr>\n      <th>11</th>\n      <td>0.902082</td>\n      <td>0.902082</td>\n      <td>1219.577142</td>\n      <td>Configuration(values={\\n  'ae_batch_size': 144...</td>\n      <td>02_overall_results</td>\n      <td>autoscaling_data_False</td>\n      <td>/remote-home/cs_acmis_sunwu/experiment_results...</td>\n      <td>YAHOO</td>\n      <td>Yahoo_A1real_31_data.out</td>\n      <td>1</td>\n      <td>...</td>\n      <td>/remote-home/cs_acmis_sunwu/experiment_results...</td>\n      <td>12</td>\n      <td>18</td>\n      <td>0.4</td>\n      <td>120</td>\n      <td>VUS_ROC</td>\n      <td>-1</td>\n      <td>-1.000000</td>\n      <td>True</td>\n      <td>ae</td>\n    </tr>\n    <tr>\n      <th>12</th>\n      <td>0.845468</td>\n      <td>0.845468</td>\n      <td>38.270711</td>\n      <td>Configuration(values={\\n  'classifier': 'ifore...</td>\n      <td>02_overall_results</td>\n      <td>autoscaling_data_True</td>\n      <td>/remote-home/cs_acmis_sunwu/experiment_results...</td>\n      <td>YAHOO</td>\n      <td>Yahoo_A1real_46_data.out</td>\n      <td>2</td>\n      <td>...</td>\n      <td>/remote-home/cs_acmis_sunwu/experiment_results...</td>\n      <td>13</td>\n      <td>18</td>\n      <td>0.4</td>\n      <td>120</td>\n      <td>VUS_ROC</td>\n      <td>random</td>\n      <td>0.566667</td>\n      <td>True</td>\n      <td>iforest</td>\n    </tr>\n    <tr>\n      <th>13</th>\n      <td>0.912395</td>\n      <td>0.912395</td>\n      <td>1480.125914</td>\n      <td>Configuration(values={\\n  'classifier': 'lstm'...</td>\n      <td>02_overall_results</td>\n      <td>autoscaling_data_False</td>\n      <td>/remote-home/cs_acmis_sunwu/experiment_results...</td>\n      <td>YAHOO</td>\n      <td>Yahoo_A1real_46_data.out</td>\n      <td>2</td>\n      <td>...</td>\n      <td>/remote-home/cs_acmis_sunwu/experiment_results...</td>\n      <td>14</td>\n      <td>18</td>\n      <td>0.4</td>\n      <td>120</td>\n      <td>VUS_ROC</td>\n      <td>-1</td>\n      <td>-1.000000</td>\n      <td>True</td>\n      <td>lstm</td>\n    </tr>\n    <tr>\n      <th>14</th>\n      <td>0.828283</td>\n      <td>0.828283</td>\n      <td>576.410802</td>\n      <td>Configuration(values={\\n  'classifier': 'lstm'...</td>\n      <td>02_overall_results</td>\n      <td>autoscaling_data_True</td>\n      <td>/remote-home/cs_acmis_sunwu/experiment_results...</td>\n      <td>YAHOO</td>\n      <td>YahooA4Benchmark-TS55_data.out</td>\n      <td>2</td>\n      <td>...</td>\n      <td>/remote-home/cs_acmis_sunwu/experiment_results...</td>\n      <td>15</td>\n      <td>18</td>\n      <td>0.4</td>\n      <td>120</td>\n      <td>VUS_ROC</td>\n      <td>random</td>\n      <td>0.450000</td>\n      <td>True</td>\n      <td>lstm</td>\n    </tr>\n    <tr>\n      <th>15</th>\n      <td>0.887422</td>\n      <td>0.887422</td>\n      <td>1558.866770</td>\n      <td>Configuration(values={\\n  'classifier': 'lstm'...</td>\n      <td>02_overall_results</td>\n      <td>autoscaling_data_False</td>\n      <td>/remote-home/cs_acmis_sunwu/experiment_results...</td>\n      <td>YAHOO</td>\n      <td>YahooA4Benchmark-TS55_data.out</td>\n      <td>2</td>\n      <td>...</td>\n      <td>/remote-home/cs_acmis_sunwu/experiment_results...</td>\n      <td>16</td>\n      <td>18</td>\n      <td>0.4</td>\n      <td>120</td>\n      <td>VUS_ROC</td>\n      <td>-1</td>\n      <td>-1.000000</td>\n      <td>True</td>\n      <td>lstm</td>\n    </tr>\n    <tr>\n      <th>16</th>\n      <td>0.901730</td>\n      <td>0.901730</td>\n      <td>894.128111</td>\n      <td>Configuration(values={\\n  'ae_batch_size': 167...</td>\n      <td>02_overall_results</td>\n      <td>autoscaling_data_True</td>\n      <td>/remote-home/cs_acmis_sunwu/experiment_results...</td>\n      <td>YAHOO</td>\n      <td>Yahoo_A1real_31_data.out</td>\n      <td>2</td>\n      <td>...</td>\n      <td>/remote-home/cs_acmis_sunwu/experiment_results...</td>\n      <td>17</td>\n      <td>18</td>\n      <td>0.4</td>\n      <td>120</td>\n      <td>VUS_ROC</td>\n      <td>random</td>\n      <td>0.566667</td>\n      <td>True</td>\n      <td>ae</td>\n    </tr>\n    <tr>\n      <th>17</th>\n      <td>0.901679</td>\n      <td>0.901679</td>\n      <td>1974.981402</td>\n      <td>Configuration(values={\\n  'ae_batch_size': 27,...</td>\n      <td>02_overall_results</td>\n      <td>autoscaling_data_False</td>\n      <td>/remote-home/cs_acmis_sunwu/experiment_results...</td>\n      <td>YAHOO</td>\n      <td>Yahoo_A1real_31_data.out</td>\n      <td>2</td>\n      <td>...</td>\n      <td>/remote-home/cs_acmis_sunwu/experiment_results...</td>\n      <td>18</td>\n      <td>18</td>\n      <td>0.4</td>\n      <td>120</td>\n      <td>VUS_ROC</td>\n      <td>-1</td>\n      <td>-1.000000</td>\n      <td>True</td>\n      <td>ae</td>\n    </tr>\n  </tbody>\n</table>\n<p>18 rows × 24 columns</p>\n</div>"
     },
     "execution_count": 2,
     "metadata": {},
     "output_type": "execute_result"
    }
   ],
   "source": [
    "# 提取出模型姓名\n",
    "# \"\\'classifier\\': \\'{*}\\',\"\n",
    "pattern = re.compile(\"classifier':\\s*'(.*)',\")\n",
    "\n",
    "# 在文本中搜索匹配的值\n",
    "def get_model_name(_data: pd.Series):\n",
    "    _data['model_name'] = pattern.search(_data['conf']).group(1)\n",
    "    return _data\n",
    "\n",
    "\n",
    "source_df = source_df.apply(get_model_name, axis=1)\n",
    "model_res = source_df\n",
    "model_res"
   ]
  },
  {
   "cell_type": "markdown",
   "source": [
    "## plot acc and training time\n",
    "我有一组数据, 分了A,B,C等很多组,每个组有抽样前和抽样后,请画一个柱状图, 分别对比a/b/c 抽样前后的均值和方差"
   ],
   "metadata": {
    "collapsed": false
   }
  },
  {
   "cell_type": "code",
   "execution_count": 3,
   "outputs": [
    {
     "data": {
      "text/plain": "                                                                              mean  \\\n                                                                        opt_result   \ndataset_name data_id                        facade is_auto_data_scaling              \nYAHOO        YahooA4Benchmark-TS55_data.out random False                  0.874808   \n                                                   True                   0.864168   \n             Yahoo_A1real_31_data.out       random False                  0.920378   \n                                                   True                   0.921611   \n             Yahoo_A1real_46_data.out       random False                  0.894311   \n                                                   True                   0.907670   \n\n                                                                                             \\\n                                                                        total_training_time   \ndataset_name data_id                        facade is_auto_data_scaling                       \nYAHOO        YahooA4Benchmark-TS55_data.out random False                        2138.744219   \n                                                   True                          754.099088   \n             Yahoo_A1real_31_data.out       random False                        2505.819258   \n                                                   True                         1374.937309   \n             Yahoo_A1real_46_data.out       random False                        1210.189904   \n                                                   True                          674.635414   \n\n                                                                               std  \\\n                                                                        opt_result   \ndataset_name data_id                        facade is_auto_data_scaling              \nYAHOO        YahooA4Benchmark-TS55_data.out random False                  0.010959   \n                                                   True                   0.033403   \n             Yahoo_A1real_31_data.out       random False                  0.032039   \n                                                   True                   0.031920   \n             Yahoo_A1real_46_data.out       random False                  0.015661   \n                                                   True                   0.053935   \n\n                                                                                             \n                                                                        total_training_time  \ndataset_name data_id                        facade is_auto_data_scaling                      \nYAHOO        YahooA4Benchmark-TS55_data.out random False                         878.432141  \n                                                   True                          163.389278  \n             Yahoo_A1real_31_data.out       random False                        1618.330503  \n                                                   True                          803.559822  \n             Yahoo_A1real_46_data.out       random False                         522.498816  \n                                                   True                          574.358809  ",
      "text/html": "<div>\n<style scoped>\n    .dataframe tbody tr th:only-of-type {\n        vertical-align: middle;\n    }\n\n    .dataframe tbody tr th {\n        vertical-align: top;\n    }\n\n    .dataframe thead tr th {\n        text-align: left;\n    }\n\n    .dataframe thead tr:last-of-type th {\n        text-align: right;\n    }\n</style>\n<table border=\"1\" class=\"dataframe\">\n  <thead>\n    <tr>\n      <th></th>\n      <th></th>\n      <th></th>\n      <th></th>\n      <th colspan=\"2\" halign=\"left\">mean</th>\n      <th colspan=\"2\" halign=\"left\">std</th>\n    </tr>\n    <tr>\n      <th></th>\n      <th></th>\n      <th></th>\n      <th></th>\n      <th>opt_result</th>\n      <th>total_training_time</th>\n      <th>opt_result</th>\n      <th>total_training_time</th>\n    </tr>\n    <tr>\n      <th>dataset_name</th>\n      <th>data_id</th>\n      <th>facade</th>\n      <th>is_auto_data_scaling</th>\n      <th></th>\n      <th></th>\n      <th></th>\n      <th></th>\n    </tr>\n  </thead>\n  <tbody>\n    <tr>\n      <th rowspan=\"6\" valign=\"top\">YAHOO</th>\n      <th rowspan=\"2\" valign=\"top\">YahooA4Benchmark-TS55_data.out</th>\n      <th rowspan=\"2\" valign=\"top\">random</th>\n      <th>False</th>\n      <td>0.874808</td>\n      <td>2138.744219</td>\n      <td>0.010959</td>\n      <td>878.432141</td>\n    </tr>\n    <tr>\n      <th>True</th>\n      <td>0.864168</td>\n      <td>754.099088</td>\n      <td>0.033403</td>\n      <td>163.389278</td>\n    </tr>\n    <tr>\n      <th rowspan=\"2\" valign=\"top\">Yahoo_A1real_31_data.out</th>\n      <th rowspan=\"2\" valign=\"top\">random</th>\n      <th>False</th>\n      <td>0.920378</td>\n      <td>2505.819258</td>\n      <td>0.032039</td>\n      <td>1618.330503</td>\n    </tr>\n    <tr>\n      <th>True</th>\n      <td>0.921611</td>\n      <td>1374.937309</td>\n      <td>0.031920</td>\n      <td>803.559822</td>\n    </tr>\n    <tr>\n      <th rowspan=\"2\" valign=\"top\">Yahoo_A1real_46_data.out</th>\n      <th rowspan=\"2\" valign=\"top\">random</th>\n      <th>False</th>\n      <td>0.894311</td>\n      <td>1210.189904</td>\n      <td>0.015661</td>\n      <td>522.498816</td>\n    </tr>\n    <tr>\n      <th>True</th>\n      <td>0.907670</td>\n      <td>674.635414</td>\n      <td>0.053935</td>\n      <td>574.358809</td>\n    </tr>\n  </tbody>\n</table>\n</div>"
     },
     "execution_count": 3,
     "metadata": {},
     "output_type": "execute_result"
    }
   ],
   "source": [
    "res = pd.pivot_table(source_df,\n",
    "                     index=[K.DATASET_NAME, K.DATA_ID, K.FACADE,K.IS_AUTO_DATA_SCALING],\n",
    "                     # columns=[K.IS_AUTO_DATA_SCALING],\n",
    "                     values=[K.OPT_RESULT, K.TOTAL_TRAINING_TIME],\n",
    "                     aggfunc=['mean', 'std']\n",
    "                     )\n",
    "res"
   ],
   "metadata": {
    "collapsed": false,
    "ExecuteTime": {
     "end_time": "2024-04-15T02:38:26.573093Z",
     "start_time": "2024-04-15T02:38:26.516756Z"
    }
   }
  },
  {
   "cell_type": "code",
   "execution_count": 4,
   "outputs": [
    {
     "data": {
      "text/plain": "  dataset_name                         data_id  facade is_auto_data_scaling  \\\n                                                                              \n0        YAHOO  YahooA4Benchmark-TS55_data.out  random                False   \n1        YAHOO  YahooA4Benchmark-TS55_data.out  random                 True   \n2        YAHOO        Yahoo_A1real_31_data.out  random                False   \n3        YAHOO        Yahoo_A1real_31_data.out  random                 True   \n4        YAHOO        Yahoo_A1real_46_data.out  random                False   \n5        YAHOO        Yahoo_A1real_46_data.out  random                 True   \n\n        mean                            std                      \n  opt_result total_training_time opt_result total_training_time  \n0   0.874808         2138.744219   0.010959          878.432141  \n1   0.864168          754.099088   0.033403          163.389278  \n2   0.920378         2505.819258   0.032039         1618.330503  \n3   0.921611         1374.937309   0.031920          803.559822  \n4   0.894311         1210.189904   0.015661          522.498816  \n5   0.907670          674.635414   0.053935          574.358809  ",
      "text/html": "<div>\n<style scoped>\n    .dataframe tbody tr th:only-of-type {\n        vertical-align: middle;\n    }\n\n    .dataframe tbody tr th {\n        vertical-align: top;\n    }\n\n    .dataframe thead tr th {\n        text-align: left;\n    }\n</style>\n<table border=\"1\" class=\"dataframe\">\n  <thead>\n    <tr>\n      <th></th>\n      <th>dataset_name</th>\n      <th>data_id</th>\n      <th>facade</th>\n      <th>is_auto_data_scaling</th>\n      <th colspan=\"2\" halign=\"left\">mean</th>\n      <th colspan=\"2\" halign=\"left\">std</th>\n    </tr>\n    <tr>\n      <th></th>\n      <th></th>\n      <th></th>\n      <th></th>\n      <th></th>\n      <th>opt_result</th>\n      <th>total_training_time</th>\n      <th>opt_result</th>\n      <th>total_training_time</th>\n    </tr>\n  </thead>\n  <tbody>\n    <tr>\n      <th>0</th>\n      <td>YAHOO</td>\n      <td>YahooA4Benchmark-TS55_data.out</td>\n      <td>random</td>\n      <td>False</td>\n      <td>0.874808</td>\n      <td>2138.744219</td>\n      <td>0.010959</td>\n      <td>878.432141</td>\n    </tr>\n    <tr>\n      <th>1</th>\n      <td>YAHOO</td>\n      <td>YahooA4Benchmark-TS55_data.out</td>\n      <td>random</td>\n      <td>True</td>\n      <td>0.864168</td>\n      <td>754.099088</td>\n      <td>0.033403</td>\n      <td>163.389278</td>\n    </tr>\n    <tr>\n      <th>2</th>\n      <td>YAHOO</td>\n      <td>Yahoo_A1real_31_data.out</td>\n      <td>random</td>\n      <td>False</td>\n      <td>0.920378</td>\n      <td>2505.819258</td>\n      <td>0.032039</td>\n      <td>1618.330503</td>\n    </tr>\n    <tr>\n      <th>3</th>\n      <td>YAHOO</td>\n      <td>Yahoo_A1real_31_data.out</td>\n      <td>random</td>\n      <td>True</td>\n      <td>0.921611</td>\n      <td>1374.937309</td>\n      <td>0.031920</td>\n      <td>803.559822</td>\n    </tr>\n    <tr>\n      <th>4</th>\n      <td>YAHOO</td>\n      <td>Yahoo_A1real_46_data.out</td>\n      <td>random</td>\n      <td>False</td>\n      <td>0.894311</td>\n      <td>1210.189904</td>\n      <td>0.015661</td>\n      <td>522.498816</td>\n    </tr>\n    <tr>\n      <th>5</th>\n      <td>YAHOO</td>\n      <td>Yahoo_A1real_46_data.out</td>\n      <td>random</td>\n      <td>True</td>\n      <td>0.907670</td>\n      <td>674.635414</td>\n      <td>0.053935</td>\n      <td>574.358809</td>\n    </tr>\n  </tbody>\n</table>\n</div>"
     },
     "execution_count": 4,
     "metadata": {},
     "output_type": "execute_result"
    }
   ],
   "source": [
    "final_res=res.reset_index()\n",
    "final_res"
   ],
   "metadata": {
    "collapsed": false,
    "ExecuteTime": {
     "end_time": "2024-04-15T02:38:26.583930Z",
     "start_time": "2024-04-15T02:38:26.529867Z"
    }
   }
  },
  {
   "cell_type": "code",
   "execution_count": 5,
   "outputs": [
    {
     "data": {
      "text/plain": "  dataset_name                         data_id  facade is_auto_data_scaling  \\\n                                                                              \n0        YAHOO  YahooA4Benchmark-TS55_data.out  random                False   \n2        YAHOO        Yahoo_A1real_31_data.out  random                False   \n4        YAHOO        Yahoo_A1real_46_data.out  random                False   \n\n        mean                            std                      \n  opt_result total_training_time opt_result total_training_time  \n0   0.874808         2138.744219   0.010959          878.432141  \n2   0.920378         2505.819258   0.032039         1618.330503  \n4   0.894311         1210.189904   0.015661          522.498816  ",
      "text/html": "<div>\n<style scoped>\n    .dataframe tbody tr th:only-of-type {\n        vertical-align: middle;\n    }\n\n    .dataframe tbody tr th {\n        vertical-align: top;\n    }\n\n    .dataframe thead tr th {\n        text-align: left;\n    }\n</style>\n<table border=\"1\" class=\"dataframe\">\n  <thead>\n    <tr>\n      <th></th>\n      <th>dataset_name</th>\n      <th>data_id</th>\n      <th>facade</th>\n      <th>is_auto_data_scaling</th>\n      <th colspan=\"2\" halign=\"left\">mean</th>\n      <th colspan=\"2\" halign=\"left\">std</th>\n    </tr>\n    <tr>\n      <th></th>\n      <th></th>\n      <th></th>\n      <th></th>\n      <th></th>\n      <th>opt_result</th>\n      <th>total_training_time</th>\n      <th>opt_result</th>\n      <th>total_training_time</th>\n    </tr>\n  </thead>\n  <tbody>\n    <tr>\n      <th>0</th>\n      <td>YAHOO</td>\n      <td>YahooA4Benchmark-TS55_data.out</td>\n      <td>random</td>\n      <td>False</td>\n      <td>0.874808</td>\n      <td>2138.744219</td>\n      <td>0.010959</td>\n      <td>878.432141</td>\n    </tr>\n    <tr>\n      <th>2</th>\n      <td>YAHOO</td>\n      <td>Yahoo_A1real_31_data.out</td>\n      <td>random</td>\n      <td>False</td>\n      <td>0.920378</td>\n      <td>2505.819258</td>\n      <td>0.032039</td>\n      <td>1618.330503</td>\n    </tr>\n    <tr>\n      <th>4</th>\n      <td>YAHOO</td>\n      <td>Yahoo_A1real_46_data.out</td>\n      <td>random</td>\n      <td>False</td>\n      <td>0.894311</td>\n      <td>1210.189904</td>\n      <td>0.015661</td>\n      <td>522.498816</td>\n    </tr>\n  </tbody>\n</table>\n</div>"
     },
     "execution_count": 5,
     "metadata": {},
     "output_type": "execute_result"
    }
   ],
   "source": [
    "default=final_res[final_res[K.IS_AUTO_DATA_SCALING]==False]\n",
    "after=final_res[final_res[K.IS_AUTO_DATA_SCALING]==True]\n",
    "default"
   ],
   "metadata": {
    "collapsed": false,
    "ExecuteTime": {
     "end_time": "2024-04-15T02:38:26.591823Z",
     "start_time": "2024-04-15T02:38:26.547473Z"
    }
   }
  },
  {
   "cell_type": "code",
   "execution_count": 6,
   "outputs": [
    {
     "data": {
      "text/plain": "  dataset_name                         data_id  facade is_auto_data_scaling  \\\n                                                                              \n1        YAHOO  YahooA4Benchmark-TS55_data.out  random                 True   \n3        YAHOO        Yahoo_A1real_31_data.out  random                 True   \n5        YAHOO        Yahoo_A1real_46_data.out  random                 True   \n\n        mean                            std                      \n  opt_result total_training_time opt_result total_training_time  \n1   0.864168          754.099088   0.033403          163.389278  \n3   0.921611         1374.937309   0.031920          803.559822  \n5   0.907670          674.635414   0.053935          574.358809  ",
      "text/html": "<div>\n<style scoped>\n    .dataframe tbody tr th:only-of-type {\n        vertical-align: middle;\n    }\n\n    .dataframe tbody tr th {\n        vertical-align: top;\n    }\n\n    .dataframe thead tr th {\n        text-align: left;\n    }\n</style>\n<table border=\"1\" class=\"dataframe\">\n  <thead>\n    <tr>\n      <th></th>\n      <th>dataset_name</th>\n      <th>data_id</th>\n      <th>facade</th>\n      <th>is_auto_data_scaling</th>\n      <th colspan=\"2\" halign=\"left\">mean</th>\n      <th colspan=\"2\" halign=\"left\">std</th>\n    </tr>\n    <tr>\n      <th></th>\n      <th></th>\n      <th></th>\n      <th></th>\n      <th></th>\n      <th>opt_result</th>\n      <th>total_training_time</th>\n      <th>opt_result</th>\n      <th>total_training_time</th>\n    </tr>\n  </thead>\n  <tbody>\n    <tr>\n      <th>1</th>\n      <td>YAHOO</td>\n      <td>YahooA4Benchmark-TS55_data.out</td>\n      <td>random</td>\n      <td>True</td>\n      <td>0.864168</td>\n      <td>754.099088</td>\n      <td>0.033403</td>\n      <td>163.389278</td>\n    </tr>\n    <tr>\n      <th>3</th>\n      <td>YAHOO</td>\n      <td>Yahoo_A1real_31_data.out</td>\n      <td>random</td>\n      <td>True</td>\n      <td>0.921611</td>\n      <td>1374.937309</td>\n      <td>0.031920</td>\n      <td>803.559822</td>\n    </tr>\n    <tr>\n      <th>5</th>\n      <td>YAHOO</td>\n      <td>Yahoo_A1real_46_data.out</td>\n      <td>random</td>\n      <td>True</td>\n      <td>0.907670</td>\n      <td>674.635414</td>\n      <td>0.053935</td>\n      <td>574.358809</td>\n    </tr>\n  </tbody>\n</table>\n</div>"
     },
     "execution_count": 6,
     "metadata": {},
     "output_type": "execute_result"
    }
   ],
   "source": [
    "after"
   ],
   "metadata": {
    "collapsed": false,
    "ExecuteTime": {
     "end_time": "2024-04-15T02:38:26.592035Z",
     "start_time": "2024-04-15T02:38:26.547738Z"
    }
   }
  },
  {
   "cell_type": "code",
   "execution_count": 7,
   "outputs": [
    {
     "data": {
      "text/plain": "[['YahooA4Benchmark-TS55_data.out',\n  'Yahoo_A1real_31_data.out',\n  'Yahoo_A1real_46_data.out'],\n [0.8748082833333334, 0.9203779366666667, 0.8943105666666668],\n [0.010958845016626225, 0.03203861490795805, 0.01566121207886651],\n [0.8641675366666667, 0.9216110933333334, 0.9076698100000001],\n [0.03340340745164981, 0.03192009160013225, 0.053935245322852654]]"
     },
     "execution_count": 7,
     "metadata": {},
     "output_type": "execute_result"
    }
   ],
   "source": [
    "merge_acc_data=[\n",
    "    list(default[K.DATA_ID].values),\n",
    "    list(default[(\"mean\",K.OPT_RESULT)].values),\n",
    "    list(default[(\"std\",K.OPT_RESULT)].values),\n",
    "    list(after[('mean',K.OPT_RESULT)].values),\n",
    "    list(after[('std',K.OPT_RESULT)].values),\n",
    "]\n",
    "merge_acc_data"
   ],
   "metadata": {
    "collapsed": false,
    "ExecuteTime": {
     "end_time": "2024-04-15T02:38:26.701621Z",
     "start_time": "2024-04-15T02:38:26.551275Z"
    }
   }
  },
  {
   "cell_type": "code",
   "execution_count": 8,
   "outputs": [
    {
     "data": {
      "text/plain": "                          data_id default_mean default_std after_mean  \\\n0  YahooA4Benchmark-TS55_data.out     0.874808    0.010959   0.864168   \n1        Yahoo_A1real_31_data.out     0.920378    0.032039   0.921611   \n2        Yahoo_A1real_46_data.out     0.894311    0.015661    0.90767   \n\n  after_std  \n0  0.033403  \n1   0.03192  \n2  0.053935  ",
      "text/html": "<div>\n<style scoped>\n    .dataframe tbody tr th:only-of-type {\n        vertical-align: middle;\n    }\n\n    .dataframe tbody tr th {\n        vertical-align: top;\n    }\n\n    .dataframe thead th {\n        text-align: right;\n    }\n</style>\n<table border=\"1\" class=\"dataframe\">\n  <thead>\n    <tr style=\"text-align: right;\">\n      <th></th>\n      <th>data_id</th>\n      <th>default_mean</th>\n      <th>default_std</th>\n      <th>after_mean</th>\n      <th>after_std</th>\n    </tr>\n  </thead>\n  <tbody>\n    <tr>\n      <th>0</th>\n      <td>YahooA4Benchmark-TS55_data.out</td>\n      <td>0.874808</td>\n      <td>0.010959</td>\n      <td>0.864168</td>\n      <td>0.033403</td>\n    </tr>\n    <tr>\n      <th>1</th>\n      <td>Yahoo_A1real_31_data.out</td>\n      <td>0.920378</td>\n      <td>0.032039</td>\n      <td>0.921611</td>\n      <td>0.03192</td>\n    </tr>\n    <tr>\n      <th>2</th>\n      <td>Yahoo_A1real_46_data.out</td>\n      <td>0.894311</td>\n      <td>0.015661</td>\n      <td>0.90767</td>\n      <td>0.053935</td>\n    </tr>\n  </tbody>\n</table>\n</div>"
     },
     "execution_count": 8,
     "metadata": {},
     "output_type": "execute_result"
    }
   ],
   "source": [
    "_columns=[\"data_id\",\"default_mean\",\"default_std\",\"after_mean\",\"after_std\"]\n",
    "plot_data=pd.DataFrame(merge_acc_data).T\n",
    "plot_data.columns=_columns\n",
    "plot_data"
   ],
   "metadata": {
    "collapsed": false,
    "ExecuteTime": {
     "end_time": "2024-04-15T02:38:26.701879Z",
     "start_time": "2024-04-15T02:38:26.556279Z"
    }
   }
  },
  {
   "cell_type": "code",
   "execution_count": 9,
   "outputs": [],
   "source": [
    "from pylibs.utils.util_gnuplot import Gnuplot\n",
    "plot_acc_data=plot_data\n",
    "merge_training_time_data=[\n",
    "    list(default[K.DATA_ID].values),\n",
    "    list(default[(\"mean\",K.TOTAL_TRAINING_TIME)].values),\n",
    "    list(default[(\"std\",K.TOTAL_TRAINING_TIME)].values),\n",
    "    list(after[('mean',K.TOTAL_TRAINING_TIME)].values),\n",
    "    list(after[('std',K.TOTAL_TRAINING_TIME)].values),\n",
    "]\n",
    "\n",
    "_columns=[\"data_id\",\"default_mean\",\"default_std\",\"after_mean\",\"after_std\"]\n",
    "plot_time_data=pd.DataFrame(merge_training_time_data).T\n",
    "plot_time_data.columns=_columns"
   ],
   "metadata": {
    "collapsed": false,
    "ExecuteTime": {
     "end_time": "2024-04-15T02:38:26.702020Z",
     "start_time": "2024-04-15T02:38:26.559867Z"
    }
   }
  },
  {
   "cell_type": "code",
   "execution_count": 10,
   "outputs": [
    {
     "name": "stdout",
     "output_type": "stream",
     "text": [
      "util_gnuplot.py:512 INFO - Writing to file /var/folders/54/yfpyqg4s5tv611l2_321343c0000gn/T/runtime.gnuplot\n"
     ]
    },
    {
     "data": {
      "text/plain": "---- ok\n\n",
      "text/html": "<pre style=\"white-space:pre;overflow-x:auto;line-height:normal;font-family:Menlo,'DejaVu Sans Mono',consolas,'Courier New',monospace\">---- ok\n\n</pre>\n"
     },
     "metadata": {},
     "output_type": "display_data"
    },
    {
     "name": "stdout",
     "output_type": "stream",
     "text": [
      "util_gnuplot.py:516 INFO - Plot successfully!\n",
      "util_gnuplot.py:648 INFO - File is save to /Users/sunwu/SW-Research/pylibs/pylibs/examples/gnuplot/runtime/plot_uts_and_score/summary.pdf\n",
      "util_gnuplot.py:690 INFO - Exit gnuplot successfully\n"
     ]
    }
   ],
   "source": [
    "from pylibs.utils.util_gnuplot import HistogramsColors\n",
    "gp = Gnuplot()\n",
    "gp.set_output_pdf(\"summary.pdf\",w=5,h=4)\n",
    "# MP_LEFT, MP_RIGHT, MP_BOTTOM, MP_TOP\n",
    "gp.set_multiplot(2, 1)\n",
    "# 公共属性\n",
    "# gp.set(\"set xtics rotate by -30 noenhanced\")\n",
    "gp.set('set xtics (\"D1\" 0, \"D2\" 1, \"D3\" 2)')\n",
    "gp.set(\"set key auto column at screen 0.5,screen 0.98 center maxrows 1\")\n",
    "gp.set(\"set boxwidth 0.9 relative\")\n",
    "gp.set(\"set style data histograms\")\n",
    "gp.set(\"set style histogram errorbars gap 2 lw 1 \")\n",
    "gp.set(\"set style fill solid 1.0 border lt -1 \")\n",
    "\n",
    "# 模型精度\n",
    "gp.add_data(plot_acc_data)\n",
    "gp.set('set tmargin 2')\n",
    "gp.set('set lmargin 10')\n",
    "gp.set('set yr [0:1]')\n",
    "gp.unset('unset colorbox')\n",
    "gp.set('set ylabel \"VUS ROC\"')\n",
    "gp.set('set style histogram errorbars lw 2')\n",
    "gp.plot('plot $df using 2:3 lc \"#3e67e0\" title \"Bayesian Optimization\", \"\" using 4:5 lc \"#ff8074\" title \"E-CASH\" ')\n",
    "\n",
    "# 训练时间\n",
    "gp.add_data(plot_time_data)\n",
    "gp.set('set lmargin 10')\n",
    "gp.set('set ylabel \"Training time (min)\"')\n",
    "gp.set('set yr [0:*]')\n",
    "gp.unset('unset colorbox')\n",
    "gp.set('set style histogram errorbars lw 2')\n",
    "gp.plot(f'plot $df using ($2/60):($3/60) lc \"{HistogramsColors.HISTOGRAM_2}\" title \"Bayesian Optimization\", \"\" using ($4/60):($5/60) lc \"{HistogramsColors.HISTOGRAM_3}\" title \"E-CASH\" ')\n",
    "gp.write_to_file()\n",
    "gp.show()\n"
   ],
   "metadata": {
    "collapsed": false,
    "ExecuteTime": {
     "end_time": "2024-04-15T02:38:27.863094Z",
     "start_time": "2024-04-15T02:38:26.585302Z"
    }
   }
  },
  {
   "cell_type": "code",
   "execution_count": 11,
   "outputs": [],
   "source": [
    "# ok"
   ],
   "metadata": {
    "collapsed": false,
    "ExecuteTime": {
     "end_time": "2024-04-15T02:38:27.876307Z",
     "start_time": "2024-04-15T02:38:27.326667Z"
    }
   }
  }
 ],
 "metadata": {
  "kernelspec": {
   "display_name": "Python 3",
   "language": "python",
   "name": "python3"
  },
  "language_info": {
   "codemirror_mode": {
    "name": "ipython",
    "version": 2
   },
   "file_extension": ".py",
   "mimetype": "text/x-python",
   "name": "python",
   "nbconvert_exporter": "python",
   "pygments_lexer": "ipython2",
   "version": "2.7.6"
  }
 },
 "nbformat": 4,
 "nbformat_minor": 0
}
