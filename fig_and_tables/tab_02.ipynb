{
 "cells": [
  {
   "cell_type": "code",
   "execution_count": 1,
   "outputs": [
    {
     "data": {
      "text/plain": "   model_name  acc_baseline  acc_tshpo   metric      dataset\n0          RF       0.89866    0.83388  roc_auc  Bioresponse\n1          ET       0.88928    0.83990  roc_auc  Bioresponse\n2         Ada       0.87584    0.81124  roc_auc  Bioresponse\n3         SGD       0.86020    0.80062  roc_auc  Bioresponse\n4         MLP       0.85974    0.82104  roc_auc  Bioresponse\n..        ...           ...        ...      ...          ...\n9         QDA       0.73078    0.01538   recall         wilt\n10        SVC       0.58462    0.42308   recall         wilt\n11        GNB       0.52308    0.01538   recall         wilt\n12        LDA       0.12308    0.10000   recall         wilt\n13        KNN       0.03078    0.00770   recall         wilt\n\n[1960 rows x 5 columns]",
      "text/html": "<div>\n<style scoped>\n    .dataframe tbody tr th:only-of-type {\n        vertical-align: middle;\n    }\n\n    .dataframe tbody tr th {\n        vertical-align: top;\n    }\n\n    .dataframe thead th {\n        text-align: right;\n    }\n</style>\n<table border=\"1\" class=\"dataframe\">\n  <thead>\n    <tr style=\"text-align: right;\">\n      <th></th>\n      <th>model_name</th>\n      <th>acc_baseline</th>\n      <th>acc_tshpo</th>\n      <th>metric</th>\n      <th>dataset</th>\n    </tr>\n  </thead>\n  <tbody>\n    <tr>\n      <th>0</th>\n      <td>RF</td>\n      <td>0.89866</td>\n      <td>0.83388</td>\n      <td>roc_auc</td>\n      <td>Bioresponse</td>\n    </tr>\n    <tr>\n      <th>1</th>\n      <td>ET</td>\n      <td>0.88928</td>\n      <td>0.83990</td>\n      <td>roc_auc</td>\n      <td>Bioresponse</td>\n    </tr>\n    <tr>\n      <th>2</th>\n      <td>Ada</td>\n      <td>0.87584</td>\n      <td>0.81124</td>\n      <td>roc_auc</td>\n      <td>Bioresponse</td>\n    </tr>\n    <tr>\n      <th>3</th>\n      <td>SGD</td>\n      <td>0.86020</td>\n      <td>0.80062</td>\n      <td>roc_auc</td>\n      <td>Bioresponse</td>\n    </tr>\n    <tr>\n      <th>4</th>\n      <td>MLP</td>\n      <td>0.85974</td>\n      <td>0.82104</td>\n      <td>roc_auc</td>\n      <td>Bioresponse</td>\n    </tr>\n    <tr>\n      <th>...</th>\n      <td>...</td>\n      <td>...</td>\n      <td>...</td>\n      <td>...</td>\n      <td>...</td>\n    </tr>\n    <tr>\n      <th>9</th>\n      <td>QDA</td>\n      <td>0.73078</td>\n      <td>0.01538</td>\n      <td>recall</td>\n      <td>wilt</td>\n    </tr>\n    <tr>\n      <th>10</th>\n      <td>SVC</td>\n      <td>0.58462</td>\n      <td>0.42308</td>\n      <td>recall</td>\n      <td>wilt</td>\n    </tr>\n    <tr>\n      <th>11</th>\n      <td>GNB</td>\n      <td>0.52308</td>\n      <td>0.01538</td>\n      <td>recall</td>\n      <td>wilt</td>\n    </tr>\n    <tr>\n      <th>12</th>\n      <td>LDA</td>\n      <td>0.12308</td>\n      <td>0.10000</td>\n      <td>recall</td>\n      <td>wilt</td>\n    </tr>\n    <tr>\n      <th>13</th>\n      <td>KNN</td>\n      <td>0.03078</td>\n      <td>0.00770</td>\n      <td>recall</td>\n      <td>wilt</td>\n    </tr>\n  </tbody>\n</table>\n<p>1960 rows × 5 columns</p>\n</div>"
     },
     "execution_count": 1,
     "metadata": {},
     "output_type": "execute_result"
    }
   ],
   "source": [
    "import numpy as np\n",
    "import pandas as pd\n",
    "\n",
    "df = pd.read_pickle(\"ana_df.pkl\")\n",
    "df = df[df['metric'] != \"f1\"]\n",
    "df"
   ],
   "metadata": {
    "collapsed": false,
    "ExecuteTime": {
     "end_time": "2024-11-01T00:35:09.818401Z",
     "start_time": "2024-11-01T00:35:09.812600Z"
    }
   }
  },
  {
   "cell_type": "code",
   "execution_count": 2,
   "outputs": [
    {
     "data": {
      "text/plain": "                             dataset  correlation_coefficient data_size_type\n0                        Bioresponse                 0.901637         middle\n1                   PhishingWebsites                 0.708144          large\n2                     bank-marketing                 0.785089          large\n3                           breast-w                 0.795352          small\n4                              churn                 0.896889         middle\n5   climate-model-simulation-crashes                 0.868063          small\n6                    credit-approval                 0.955233          small\n7                           credit-g                 0.986140          small\n8                     cylinder-bands                 0.936146          small\n9                           diabetes                 0.980948          small\n10                     dresses-sales                 0.992380          small\n11                       electricity                 0.782051          large\n12                              ilpd                 0.990938          small\n13                               jm1                 0.988095          large\n14                               kc1                 0.985508         middle\n15                          kr-vs-kp                 0.795386         middle\n16                           madelon                 0.867725         middle\n17                             nomao                 0.505845          large\n18                   ozone-level-8hr                 0.744321         middle\n19                               pc1                 0.774483          small\n20                               pc3                 0.877188         middle\n21                               pc4                 0.878323         middle\n22                           phoneme                 0.936156         middle\n23                       qsar-biodeg                 0.916906          small\n24                              sick                 0.318722         middle\n25                          spambase                 0.893738         middle\n26                       tic-tac-toe                 0.683155          small\n27                              wilt                 0.710453         middle",
      "text/html": "<div>\n<style scoped>\n    .dataframe tbody tr th:only-of-type {\n        vertical-align: middle;\n    }\n\n    .dataframe tbody tr th {\n        vertical-align: top;\n    }\n\n    .dataframe thead th {\n        text-align: right;\n    }\n</style>\n<table border=\"1\" class=\"dataframe\">\n  <thead>\n    <tr style=\"text-align: right;\">\n      <th></th>\n      <th>dataset</th>\n      <th>correlation_coefficient</th>\n      <th>data_size_type</th>\n    </tr>\n  </thead>\n  <tbody>\n    <tr>\n      <th>0</th>\n      <td>Bioresponse</td>\n      <td>0.901637</td>\n      <td>middle</td>\n    </tr>\n    <tr>\n      <th>1</th>\n      <td>PhishingWebsites</td>\n      <td>0.708144</td>\n      <td>large</td>\n    </tr>\n    <tr>\n      <th>2</th>\n      <td>bank-marketing</td>\n      <td>0.785089</td>\n      <td>large</td>\n    </tr>\n    <tr>\n      <th>3</th>\n      <td>breast-w</td>\n      <td>0.795352</td>\n      <td>small</td>\n    </tr>\n    <tr>\n      <th>4</th>\n      <td>churn</td>\n      <td>0.896889</td>\n      <td>middle</td>\n    </tr>\n    <tr>\n      <th>5</th>\n      <td>climate-model-simulation-crashes</td>\n      <td>0.868063</td>\n      <td>small</td>\n    </tr>\n    <tr>\n      <th>6</th>\n      <td>credit-approval</td>\n      <td>0.955233</td>\n      <td>small</td>\n    </tr>\n    <tr>\n      <th>7</th>\n      <td>credit-g</td>\n      <td>0.986140</td>\n      <td>small</td>\n    </tr>\n    <tr>\n      <th>8</th>\n      <td>cylinder-bands</td>\n      <td>0.936146</td>\n      <td>small</td>\n    </tr>\n    <tr>\n      <th>9</th>\n      <td>diabetes</td>\n      <td>0.980948</td>\n      <td>small</td>\n    </tr>\n    <tr>\n      <th>10</th>\n      <td>dresses-sales</td>\n      <td>0.992380</td>\n      <td>small</td>\n    </tr>\n    <tr>\n      <th>11</th>\n      <td>electricity</td>\n      <td>0.782051</td>\n      <td>large</td>\n    </tr>\n    <tr>\n      <th>12</th>\n      <td>ilpd</td>\n      <td>0.990938</td>\n      <td>small</td>\n    </tr>\n    <tr>\n      <th>13</th>\n      <td>jm1</td>\n      <td>0.988095</td>\n      <td>large</td>\n    </tr>\n    <tr>\n      <th>14</th>\n      <td>kc1</td>\n      <td>0.985508</td>\n      <td>middle</td>\n    </tr>\n    <tr>\n      <th>15</th>\n      <td>kr-vs-kp</td>\n      <td>0.795386</td>\n      <td>middle</td>\n    </tr>\n    <tr>\n      <th>16</th>\n      <td>madelon</td>\n      <td>0.867725</td>\n      <td>middle</td>\n    </tr>\n    <tr>\n      <th>17</th>\n      <td>nomao</td>\n      <td>0.505845</td>\n      <td>large</td>\n    </tr>\n    <tr>\n      <th>18</th>\n      <td>ozone-level-8hr</td>\n      <td>0.744321</td>\n      <td>middle</td>\n    </tr>\n    <tr>\n      <th>19</th>\n      <td>pc1</td>\n      <td>0.774483</td>\n      <td>small</td>\n    </tr>\n    <tr>\n      <th>20</th>\n      <td>pc3</td>\n      <td>0.877188</td>\n      <td>middle</td>\n    </tr>\n    <tr>\n      <th>21</th>\n      <td>pc4</td>\n      <td>0.878323</td>\n      <td>middle</td>\n    </tr>\n    <tr>\n      <th>22</th>\n      <td>phoneme</td>\n      <td>0.936156</td>\n      <td>middle</td>\n    </tr>\n    <tr>\n      <th>23</th>\n      <td>qsar-biodeg</td>\n      <td>0.916906</td>\n      <td>small</td>\n    </tr>\n    <tr>\n      <th>24</th>\n      <td>sick</td>\n      <td>0.318722</td>\n      <td>middle</td>\n    </tr>\n    <tr>\n      <th>25</th>\n      <td>spambase</td>\n      <td>0.893738</td>\n      <td>middle</td>\n    </tr>\n    <tr>\n      <th>26</th>\n      <td>tic-tac-toe</td>\n      <td>0.683155</td>\n      <td>small</td>\n    </tr>\n    <tr>\n      <th>27</th>\n      <td>wilt</td>\n      <td>0.710453</td>\n      <td>middle</td>\n    </tr>\n  </tbody>\n</table>\n</div>"
     },
     "execution_count": 2,
     "metadata": {},
     "output_type": "execute_result"
    }
   ],
   "source": [
    "from tshpo.lib_class import AnaHelper\n",
    "from scipy.stats import pearsonr\n",
    "\n",
    "output = []\n",
    "for d in df['dataset'].drop_duplicates().tolist():\n",
    "    df_crt = df[df['dataset'] == d]\n",
    "    baseline_crt = df_crt['acc_baseline']\n",
    "    tshpo_crt = df_crt['acc_tshpo']\n",
    "    correlation_coefficient, p_value = pearsonr(baseline_crt, tshpo_crt)\n",
    "    # print(d,\"correlation_coefficient=\",round(correlation_coefficient,2))\n",
    "    output.append({\n",
    "        \"dataset\": d,\n",
    "        \"correlation_coefficient\": correlation_coefficient\n",
    "    })\n",
    "\n",
    "check_df = pd.DataFrame(output)\n",
    "check_df = AnaHelper.append_data_size_type(check_df)\n",
    "check_df\n",
    "\n"
   ],
   "metadata": {
    "collapsed": false,
    "ExecuteTime": {
     "end_time": "2024-11-01T00:35:09.879111Z",
     "start_time": "2024-11-01T00:35:09.820006Z"
    }
   }
  },
  {
   "cell_type": "code",
   "execution_count": 3,
   "outputs": [
    {
     "data": {
      "text/plain": "                correlation_coefficient\ndata_size_type                         \nlarge                              0.75\nmiddle                             0.82\nsmall                              0.90",
      "text/html": "<div>\n<style scoped>\n    .dataframe tbody tr th:only-of-type {\n        vertical-align: middle;\n    }\n\n    .dataframe tbody tr th {\n        vertical-align: top;\n    }\n\n    .dataframe thead th {\n        text-align: right;\n    }\n</style>\n<table border=\"1\" class=\"dataframe\">\n  <thead>\n    <tr style=\"text-align: right;\">\n      <th></th>\n      <th>correlation_coefficient</th>\n    </tr>\n    <tr>\n      <th>data_size_type</th>\n      <th></th>\n    </tr>\n  </thead>\n  <tbody>\n    <tr>\n      <th>large</th>\n      <td>0.75</td>\n    </tr>\n    <tr>\n      <th>middle</th>\n      <td>0.82</td>\n    </tr>\n    <tr>\n      <th>small</th>\n      <td>0.90</td>\n    </tr>\n  </tbody>\n</table>\n</div>"
     },
     "execution_count": 3,
     "metadata": {},
     "output_type": "execute_result"
    }
   ],
   "source": [
    "# ID2024112716141689831953\n",
    "from tshpo.lib_class import FileHelper\n",
    "\n",
    "# check_df = check_df[~check_df['dataset'].isin(['climate-model-simulation-crashes'])]\n",
    "_ttest_df = pd.pivot_table(check_df, index=[\"data_size_type\"], values=['correlation_coefficient'],\n",
    "                           aggfunc=\"mean\").round(2)\n",
    "FileHelper().to_latex(_ttest_df, \"tab2_correlation_coefficient.tex\")\n",
    "_ttest_df"
   ],
   "metadata": {
    "collapsed": false,
    "ExecuteTime": {
     "end_time": "2024-11-01T00:35:27.502589Z",
     "start_time": "2024-11-01T00:35:27.492964Z"
    }
   }
  },
  {
   "cell_type": "code",
   "execution_count": null,
   "outputs": [],
   "source": [],
   "metadata": {
    "collapsed": false,
    "pycharm": {
     "is_executing": true
    }
   }
  },
  {
   "cell_type": "code",
   "execution_count": 3,
   "outputs": [],
   "source": [],
   "metadata": {
    "collapsed": false
   }
  }
 ],
 "metadata": {
  "kernelspec": {
   "display_name": "autosklearn",
   "language": "python",
   "name": "python3"
  },
  "language_info": {
   "codemirror_mode": {
    "name": "ipython",
    "version": 3
   },
   "file_extension": ".py",
   "mimetype": "text/x-python",
   "name": "python",
   "nbconvert_exporter": "python",
   "pygments_lexer": "ipython3",
   "version": "3.9.19"
  }
 },
 "nbformat": 4,
 "nbformat_minor": 0
}
