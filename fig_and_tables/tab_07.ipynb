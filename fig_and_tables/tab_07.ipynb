{
 "cells": [
  {
   "cell_type": "code",
   "execution_count": 1,
   "outputs": [
    {
     "data": {
      "text/plain": "     Unnamed: 0                                id  default_max  default_min  \\\n0             0  b967ca32ec9af999a058d04565a3d9a5       0.6962       0.2956   \n1             0  eabf231039c492fc129d6a3efa01a693       0.7504       0.3021   \n2             0  92551b5a8d8d8c3835d83b8475f23b6b       0.6683       0.2677   \n3             0  661fc24c0e53d824f12c38d17a9e7a57       0.6995       0.3186   \n4             0  8b1fc5fcef95e62ef5d8825b20357e3c       0.6913       0.2545   \n..          ...                               ...          ...          ...   \n135           0  8a5c6a05a1a789c549f17867aa861796       0.7620       0.1201   \n136           0  2bdd2d7d8873779959045c334303c3d7       0.6835       0.1184   \n137           0  9ef4f26f6437c67adf2230b14482032d       0.7273       0.1244   \n138           0  0eb1729cd8affc9898b2cd3c89b5ffb5       0.6028       0.1159   \n139           0  551a8047ef01db002e8816b15b535e9f       0.6025       0.1168   \n\n      status  #instances  model_training_time  data_processing_time  \\\n0    success         500             375.5901                0.0014   \n1    success         500             359.8028                0.0019   \n2    success         500             440.8834                0.0016   \n3    success         500             313.0256                0.0025   \n4    success         500             208.3700                0.0025   \n..       ...         ...                  ...                   ...   \n135  success        1400             999.1596                0.8184   \n136  success        1400             887.1759                0.5128   \n137  success        1400             933.6176                0.5508   \n138  success        1400             917.5247                0.5116   \n139  success        1400             934.4704                0.5397   \n\n     walk_time  t__stopwatch_  ...  data_sample_rate  hpc  \\\n0       391.23     391.276051  ...               1.0  NaN   \n1       380.56     380.623701  ...               1.0  NaN   \n2       463.59     463.660622  ...               1.0  NaN   \n3       336.89     336.964377  ...               1.0  NaN   \n4       253.57     253.703704  ...               1.0  NaN   \n..         ...            ...  ...               ...  ...   \n135    1002.30    1002.336039  ...               0.3  NaN   \n136     888.63     888.662217  ...               0.3  NaN   \n137     936.14     936.175218  ...               0.3  NaN   \n138     919.46     919.489520  ...               0.3  NaN   \n139     936.17     936.203653  ...               0.3  NaN   \n\n                            parsed_configs_and_metrics  metric_200  \\\n0         config_index       model  default  elapse...      0.6929   \n1         config_index        model  default  elaps...      0.6979   \n2         config_index        model  default  elaps...      0.6700   \n3         config_index                model  defaul...      0.6814   \n4         config_index           model  default  el...      0.7455   \n..                                                 ...         ...   \n135        config_index     model  default  elapsed...         NaN   \n136        config_index     model  default  elapsed...         NaN   \n137        config_index     model  default  elapsed...         NaN   \n138        config_index     model  default  elapsed...         NaN   \n139        config_index     model  default  elapsed...         NaN   \n\n     metric_300  metric_400  metric_500   ftype  \\\n0        0.6929      0.7044      0.7044     opt   \n1        0.6979      0.6979      0.6979     opt   \n2        0.7176      0.7323      0.7323     opt   \n3        0.6814      0.6814      0.6814     opt   \n4        0.7455      0.7455      0.7455     opt   \n..          ...         ...         ...     ...   \n135         NaN         NaN         NaN  select   \n136         NaN         NaN         NaN  select   \n137         NaN         NaN         NaN  select   \n138         NaN         NaN         NaN  select   \n139         NaN         NaN         NaN  select   \n\n                                   configs_and_metrics  data_size_type  \n0                                                  NaN           small  \n1                                                  NaN           small  \n2                                                  NaN           small  \n3                                                  NaN           small  \n4                                                  NaN           small  \n..                                                 ...             ...  \n135  [(Configuration(values={\\n  '__choice__': 'ada...           large  \n136  [(Configuration(values={\\n  '__choice__': 'ada...           large  \n137  [(Configuration(values={\\n  '__choice__': 'ada...           large  \n138  [(Configuration(values={\\n  '__choice__': 'ada...           large  \n139  [(Configuration(values={\\n  '__choice__': 'ada...           large  \n\n[4337 rows x 55 columns]",
      "text/html": "<div>\n<style scoped>\n    .dataframe tbody tr th:only-of-type {\n        vertical-align: middle;\n    }\n\n    .dataframe tbody tr th {\n        vertical-align: top;\n    }\n\n    .dataframe thead th {\n        text-align: right;\n    }\n</style>\n<table border=\"1\" class=\"dataframe\">\n  <thead>\n    <tr style=\"text-align: right;\">\n      <th></th>\n      <th>Unnamed: 0</th>\n      <th>id</th>\n      <th>default_max</th>\n      <th>default_min</th>\n      <th>status</th>\n      <th>#instances</th>\n      <th>model_training_time</th>\n      <th>data_processing_time</th>\n      <th>walk_time</th>\n      <th>t__stopwatch_</th>\n      <th>...</th>\n      <th>data_sample_rate</th>\n      <th>hpc</th>\n      <th>parsed_configs_and_metrics</th>\n      <th>metric_200</th>\n      <th>metric_300</th>\n      <th>metric_400</th>\n      <th>metric_500</th>\n      <th>ftype</th>\n      <th>configs_and_metrics</th>\n      <th>data_size_type</th>\n    </tr>\n  </thead>\n  <tbody>\n    <tr>\n      <th>0</th>\n      <td>0</td>\n      <td>b967ca32ec9af999a058d04565a3d9a5</td>\n      <td>0.6962</td>\n      <td>0.2956</td>\n      <td>success</td>\n      <td>500</td>\n      <td>375.5901</td>\n      <td>0.0014</td>\n      <td>391.23</td>\n      <td>391.276051</td>\n      <td>...</td>\n      <td>1.0</td>\n      <td>NaN</td>\n      <td>config_index       model  default  elapse...</td>\n      <td>0.6929</td>\n      <td>0.6929</td>\n      <td>0.7044</td>\n      <td>0.7044</td>\n      <td>opt</td>\n      <td>NaN</td>\n      <td>small</td>\n    </tr>\n    <tr>\n      <th>1</th>\n      <td>0</td>\n      <td>eabf231039c492fc129d6a3efa01a693</td>\n      <td>0.7504</td>\n      <td>0.3021</td>\n      <td>success</td>\n      <td>500</td>\n      <td>359.8028</td>\n      <td>0.0019</td>\n      <td>380.56</td>\n      <td>380.623701</td>\n      <td>...</td>\n      <td>1.0</td>\n      <td>NaN</td>\n      <td>config_index        model  default  elaps...</td>\n      <td>0.6979</td>\n      <td>0.6979</td>\n      <td>0.6979</td>\n      <td>0.6979</td>\n      <td>opt</td>\n      <td>NaN</td>\n      <td>small</td>\n    </tr>\n    <tr>\n      <th>2</th>\n      <td>0</td>\n      <td>92551b5a8d8d8c3835d83b8475f23b6b</td>\n      <td>0.6683</td>\n      <td>0.2677</td>\n      <td>success</td>\n      <td>500</td>\n      <td>440.8834</td>\n      <td>0.0016</td>\n      <td>463.59</td>\n      <td>463.660622</td>\n      <td>...</td>\n      <td>1.0</td>\n      <td>NaN</td>\n      <td>config_index        model  default  elaps...</td>\n      <td>0.6700</td>\n      <td>0.7176</td>\n      <td>0.7323</td>\n      <td>0.7323</td>\n      <td>opt</td>\n      <td>NaN</td>\n      <td>small</td>\n    </tr>\n    <tr>\n      <th>3</th>\n      <td>0</td>\n      <td>661fc24c0e53d824f12c38d17a9e7a57</td>\n      <td>0.6995</td>\n      <td>0.3186</td>\n      <td>success</td>\n      <td>500</td>\n      <td>313.0256</td>\n      <td>0.0025</td>\n      <td>336.89</td>\n      <td>336.964377</td>\n      <td>...</td>\n      <td>1.0</td>\n      <td>NaN</td>\n      <td>config_index                model  defaul...</td>\n      <td>0.6814</td>\n      <td>0.6814</td>\n      <td>0.6814</td>\n      <td>0.6814</td>\n      <td>opt</td>\n      <td>NaN</td>\n      <td>small</td>\n    </tr>\n    <tr>\n      <th>4</th>\n      <td>0</td>\n      <td>8b1fc5fcef95e62ef5d8825b20357e3c</td>\n      <td>0.6913</td>\n      <td>0.2545</td>\n      <td>success</td>\n      <td>500</td>\n      <td>208.3700</td>\n      <td>0.0025</td>\n      <td>253.57</td>\n      <td>253.703704</td>\n      <td>...</td>\n      <td>1.0</td>\n      <td>NaN</td>\n      <td>config_index           model  default  el...</td>\n      <td>0.7455</td>\n      <td>0.7455</td>\n      <td>0.7455</td>\n      <td>0.7455</td>\n      <td>opt</td>\n      <td>NaN</td>\n      <td>small</td>\n    </tr>\n    <tr>\n      <th>...</th>\n      <td>...</td>\n      <td>...</td>\n      <td>...</td>\n      <td>...</td>\n      <td>...</td>\n      <td>...</td>\n      <td>...</td>\n      <td>...</td>\n      <td>...</td>\n      <td>...</td>\n      <td>...</td>\n      <td>...</td>\n      <td>...</td>\n      <td>...</td>\n      <td>...</td>\n      <td>...</td>\n      <td>...</td>\n      <td>...</td>\n      <td>...</td>\n      <td>...</td>\n      <td>...</td>\n    </tr>\n    <tr>\n      <th>135</th>\n      <td>0</td>\n      <td>8a5c6a05a1a789c549f17867aa861796</td>\n      <td>0.7620</td>\n      <td>0.1201</td>\n      <td>success</td>\n      <td>1400</td>\n      <td>999.1596</td>\n      <td>0.8184</td>\n      <td>1002.30</td>\n      <td>1002.336039</td>\n      <td>...</td>\n      <td>0.3</td>\n      <td>NaN</td>\n      <td>config_index     model  default  elapsed...</td>\n      <td>NaN</td>\n      <td>NaN</td>\n      <td>NaN</td>\n      <td>NaN</td>\n      <td>select</td>\n      <td>[(Configuration(values={\\n  '__choice__': 'ada...</td>\n      <td>large</td>\n    </tr>\n    <tr>\n      <th>136</th>\n      <td>0</td>\n      <td>2bdd2d7d8873779959045c334303c3d7</td>\n      <td>0.6835</td>\n      <td>0.1184</td>\n      <td>success</td>\n      <td>1400</td>\n      <td>887.1759</td>\n      <td>0.5128</td>\n      <td>888.63</td>\n      <td>888.662217</td>\n      <td>...</td>\n      <td>0.3</td>\n      <td>NaN</td>\n      <td>config_index     model  default  elapsed...</td>\n      <td>NaN</td>\n      <td>NaN</td>\n      <td>NaN</td>\n      <td>NaN</td>\n      <td>select</td>\n      <td>[(Configuration(values={\\n  '__choice__': 'ada...</td>\n      <td>large</td>\n    </tr>\n    <tr>\n      <th>137</th>\n      <td>0</td>\n      <td>9ef4f26f6437c67adf2230b14482032d</td>\n      <td>0.7273</td>\n      <td>0.1244</td>\n      <td>success</td>\n      <td>1400</td>\n      <td>933.6176</td>\n      <td>0.5508</td>\n      <td>936.14</td>\n      <td>936.175218</td>\n      <td>...</td>\n      <td>0.3</td>\n      <td>NaN</td>\n      <td>config_index     model  default  elapsed...</td>\n      <td>NaN</td>\n      <td>NaN</td>\n      <td>NaN</td>\n      <td>NaN</td>\n      <td>select</td>\n      <td>[(Configuration(values={\\n  '__choice__': 'ada...</td>\n      <td>large</td>\n    </tr>\n    <tr>\n      <th>138</th>\n      <td>0</td>\n      <td>0eb1729cd8affc9898b2cd3c89b5ffb5</td>\n      <td>0.6028</td>\n      <td>0.1159</td>\n      <td>success</td>\n      <td>1400</td>\n      <td>917.5247</td>\n      <td>0.5116</td>\n      <td>919.46</td>\n      <td>919.489520</td>\n      <td>...</td>\n      <td>0.3</td>\n      <td>NaN</td>\n      <td>config_index     model  default  elapsed...</td>\n      <td>NaN</td>\n      <td>NaN</td>\n      <td>NaN</td>\n      <td>NaN</td>\n      <td>select</td>\n      <td>[(Configuration(values={\\n  '__choice__': 'ada...</td>\n      <td>large</td>\n    </tr>\n    <tr>\n      <th>139</th>\n      <td>0</td>\n      <td>551a8047ef01db002e8816b15b535e9f</td>\n      <td>0.6025</td>\n      <td>0.1168</td>\n      <td>success</td>\n      <td>1400</td>\n      <td>934.4704</td>\n      <td>0.5397</td>\n      <td>936.17</td>\n      <td>936.203653</td>\n      <td>...</td>\n      <td>0.3</td>\n      <td>NaN</td>\n      <td>config_index     model  default  elapsed...</td>\n      <td>NaN</td>\n      <td>NaN</td>\n      <td>NaN</td>\n      <td>NaN</td>\n      <td>select</td>\n      <td>[(Configuration(values={\\n  '__choice__': 'ada...</td>\n      <td>large</td>\n    </tr>\n  </tbody>\n</table>\n<p>4337 rows × 55 columns</p>\n</div>"
     },
     "execution_count": 1,
     "metadata": {},
     "output_type": "execute_result"
    }
   ],
   "source": [
    "\"\"\"\n",
    "计算剪枝时间和优化时间\n",
    "\"\"\"\n",
    "from tshpo.lib_class import AnaHelper\n",
    "import pandas as pd\n",
    "\n",
    "EPOCH_KEY = \"metric_400\"\n",
    "files = [\n",
    "    \"c04_tshpo_acc_compare_v11_original_20241101_1810.csv.gz\",\n",
    "    \"c04_tshpo_acc_compare_v12_middle_original_20241103_0821.csv.gz\",\n",
    "    \"c04_tshpo_acc_compare_v12_big_original_20241102_1631.csv.gz\",\n",
    "]\n",
    "t_df = []\n",
    "for _f in files:\n",
    "    _df = AnaHelper.load_exp_from_csv_tshpo(_f, iterations=[200, 300, 400, 500])\n",
    "    _df['ftype'] = \"opt\"\n",
    "    t_df.append(_df)\n",
    "\n",
    "_df = AnaHelper.load_csv_file(\"c09_select_optimal_alg_v4_original_20241101_1059.csv.gz\")\n",
    "_df[\"ftype\"] = \"select\"\n",
    "t_df.append(_df)\n",
    "\n",
    "process_df = pd.concat(t_df)\n",
    "process_df = AnaHelper.append_data_size_type(process_df)\n",
    "process_df = AnaHelper.append_normal_hpo_name(process_df)\n",
    "process_df\n"
   ],
   "metadata": {
    "collapsed": false
   }
  },
  {
   "cell_type": "code",
   "execution_count": 2,
   "outputs": [
    {
     "data": {
      "text/plain": "0       opt\n0    select\nName: ftype, dtype: object"
     },
     "execution_count": 2,
     "metadata": {},
     "output_type": "execute_result"
    }
   ],
   "source": [
    "process_df['ftype'].drop_duplicates()"
   ],
   "metadata": {
    "collapsed": false
   }
  },
  {
   "cell_type": "code",
   "execution_count": 3,
   "outputs": [
    {
     "data": {
      "text/plain": "     ftype data_size_type hpo_opt_method  model_training_time  \\\n0      opt          large             BO           165.752043   \n1      opt          large             HB           153.080188   \n2      opt          large             RS           129.415031   \n3      opt         middle             BO           148.265172   \n4      opt         middle             HB            70.437398   \n5      opt         middle             RS            59.317058   \n6      opt          small             BO             7.566105   \n7      opt          small             HB             7.457154   \n8      opt          small             RS             6.921654   \n9   select          large             RS            14.604060   \n10  select         middle             RS             8.495119   \n11  select          small             RS             6.542460   \n\n    data_processing_time   walk_time  \n0               0.000142  216.845448  \n1               0.000279  153.388194  \n2               0.000145  129.475040  \n3               0.000569  214.925472  \n4               0.001086   70.816176  \n5               0.000779   59.357798  \n6               0.000111   95.262418  \n7               0.000116    7.917019  \n8               0.000098    6.972300  \n9               0.010391   14.640827  \n10              0.008097    8.526033  \n11              0.003961    6.572755  ",
      "text/html": "<div>\n<style scoped>\n    .dataframe tbody tr th:only-of-type {\n        vertical-align: middle;\n    }\n\n    .dataframe tbody tr th {\n        vertical-align: top;\n    }\n\n    .dataframe thead th {\n        text-align: right;\n    }\n</style>\n<table border=\"1\" class=\"dataframe\">\n  <thead>\n    <tr style=\"text-align: right;\">\n      <th></th>\n      <th>ftype</th>\n      <th>data_size_type</th>\n      <th>hpo_opt_method</th>\n      <th>model_training_time</th>\n      <th>data_processing_time</th>\n      <th>walk_time</th>\n    </tr>\n  </thead>\n  <tbody>\n    <tr>\n      <th>0</th>\n      <td>opt</td>\n      <td>large</td>\n      <td>BO</td>\n      <td>165.752043</td>\n      <td>0.000142</td>\n      <td>216.845448</td>\n    </tr>\n    <tr>\n      <th>1</th>\n      <td>opt</td>\n      <td>large</td>\n      <td>HB</td>\n      <td>153.080188</td>\n      <td>0.000279</td>\n      <td>153.388194</td>\n    </tr>\n    <tr>\n      <th>2</th>\n      <td>opt</td>\n      <td>large</td>\n      <td>RS</td>\n      <td>129.415031</td>\n      <td>0.000145</td>\n      <td>129.475040</td>\n    </tr>\n    <tr>\n      <th>3</th>\n      <td>opt</td>\n      <td>middle</td>\n      <td>BO</td>\n      <td>148.265172</td>\n      <td>0.000569</td>\n      <td>214.925472</td>\n    </tr>\n    <tr>\n      <th>4</th>\n      <td>opt</td>\n      <td>middle</td>\n      <td>HB</td>\n      <td>70.437398</td>\n      <td>0.001086</td>\n      <td>70.816176</td>\n    </tr>\n    <tr>\n      <th>5</th>\n      <td>opt</td>\n      <td>middle</td>\n      <td>RS</td>\n      <td>59.317058</td>\n      <td>0.000779</td>\n      <td>59.357798</td>\n    </tr>\n    <tr>\n      <th>6</th>\n      <td>opt</td>\n      <td>small</td>\n      <td>BO</td>\n      <td>7.566105</td>\n      <td>0.000111</td>\n      <td>95.262418</td>\n    </tr>\n    <tr>\n      <th>7</th>\n      <td>opt</td>\n      <td>small</td>\n      <td>HB</td>\n      <td>7.457154</td>\n      <td>0.000116</td>\n      <td>7.917019</td>\n    </tr>\n    <tr>\n      <th>8</th>\n      <td>opt</td>\n      <td>small</td>\n      <td>RS</td>\n      <td>6.921654</td>\n      <td>0.000098</td>\n      <td>6.972300</td>\n    </tr>\n    <tr>\n      <th>9</th>\n      <td>select</td>\n      <td>large</td>\n      <td>RS</td>\n      <td>14.604060</td>\n      <td>0.010391</td>\n      <td>14.640827</td>\n    </tr>\n    <tr>\n      <th>10</th>\n      <td>select</td>\n      <td>middle</td>\n      <td>RS</td>\n      <td>8.495119</td>\n      <td>0.008097</td>\n      <td>8.526033</td>\n    </tr>\n    <tr>\n      <th>11</th>\n      <td>select</td>\n      <td>small</td>\n      <td>RS</td>\n      <td>6.542460</td>\n      <td>0.003961</td>\n      <td>6.572755</td>\n    </tr>\n  </tbody>\n</table>\n</div>"
     },
     "execution_count": 3,
     "metadata": {},
     "output_type": "execute_result"
    }
   ],
   "source": [
    "ori_time = process_df.groupby(by=[\"ftype\", \"data_size_type\", \"hpo_opt_method\"])[\n",
    "               \"model_training_time\", \"data_processing_time\", 'walk_time'].mean() / 60\n",
    "ori_time = ori_time.reset_index()\n",
    "ori_time"
   ],
   "metadata": {
    "collapsed": false
   }
  },
  {
   "cell_type": "code",
   "execution_count": 4,
   "outputs": [
    {
     "name": "stdout",
     "output_type": "stream",
     "text": [
      "Saved to /Users/sunwu/SW-Research/AutoML-Benchmark/tshpo/runtime/exp_outputs/time_consume.tex\n"
     ]
    },
    {
     "data": {
      "text/plain": "      data_size_type hpo_opt_method baseline   TSHPO   ↑\nftype                                                   \n0              large             BO   216.85  231.49   6\n1              large             HB   153.39  168.03   8\n2              large             RS   129.48  144.12  10\n3             middle             BO   214.93  223.46   3\n4             middle             HB    70.82   79.35  10\n5             middle             RS    59.36   67.89  12\n6              small             BO    95.26  101.83   6\n7              small             HB     7.92   14.49  45\n8              small             RS     6.97   13.54  48",
      "text/html": "<div>\n<style scoped>\n    .dataframe tbody tr th:only-of-type {\n        vertical-align: middle;\n    }\n\n    .dataframe tbody tr th {\n        vertical-align: top;\n    }\n\n    .dataframe thead tr th {\n        text-align: left;\n    }\n</style>\n<table border=\"1\" class=\"dataframe\">\n  <thead>\n    <tr>\n      <th></th>\n      <th>data_size_type</th>\n      <th>hpo_opt_method</th>\n      <th>baseline</th>\n      <th>TSHPO</th>\n      <th>↑</th>\n    </tr>\n    <tr>\n      <th>ftype</th>\n      <th></th>\n      <th></th>\n      <th></th>\n      <th></th>\n      <th></th>\n    </tr>\n  </thead>\n  <tbody>\n    <tr>\n      <th>0</th>\n      <td>large</td>\n      <td>BO</td>\n      <td>216.85</td>\n      <td>231.49</td>\n      <td>6</td>\n    </tr>\n    <tr>\n      <th>1</th>\n      <td>large</td>\n      <td>HB</td>\n      <td>153.39</td>\n      <td>168.03</td>\n      <td>8</td>\n    </tr>\n    <tr>\n      <th>2</th>\n      <td>large</td>\n      <td>RS</td>\n      <td>129.48</td>\n      <td>144.12</td>\n      <td>10</td>\n    </tr>\n    <tr>\n      <th>3</th>\n      <td>middle</td>\n      <td>BO</td>\n      <td>214.93</td>\n      <td>223.46</td>\n      <td>3</td>\n    </tr>\n    <tr>\n      <th>4</th>\n      <td>middle</td>\n      <td>HB</td>\n      <td>70.82</td>\n      <td>79.35</td>\n      <td>10</td>\n    </tr>\n    <tr>\n      <th>5</th>\n      <td>middle</td>\n      <td>RS</td>\n      <td>59.36</td>\n      <td>67.89</td>\n      <td>12</td>\n    </tr>\n    <tr>\n      <th>6</th>\n      <td>small</td>\n      <td>BO</td>\n      <td>95.26</td>\n      <td>101.83</td>\n      <td>6</td>\n    </tr>\n    <tr>\n      <th>7</th>\n      <td>small</td>\n      <td>HB</td>\n      <td>7.92</td>\n      <td>14.49</td>\n      <td>45</td>\n    </tr>\n    <tr>\n      <th>8</th>\n      <td>small</td>\n      <td>RS</td>\n      <td>6.97</td>\n      <td>13.54</td>\n      <td>48</td>\n    </tr>\n  </tbody>\n</table>\n</div>"
     },
     "execution_count": 4,
     "metadata": {},
     "output_type": "execute_result"
    }
   ],
   "source": [
    "# ID202411271631761159426\n",
    "from tshpo.lib_class import FileHelper\n",
    "\n",
    "output_ = pd.pivot_table(ori_time, index=[\"data_size_type\", \"hpo_opt_method\"], columns=[\"ftype\"],\n",
    "                         values=['walk_time']).round(2)\n",
    "output_ = output_.fillna(method='bfill')\n",
    "output_ = output_.reset_index()\n",
    "output_['baseline'] = output_[(\"walk_time\", \"opt\")]\n",
    "output_['TSHPO'] = output_[(\"walk_time\", \"opt\")] + output_[(\"walk_time\", \"select\")]\n",
    "output_[\"↑\"] = (100 * (output_[\"TSHPO\"] - output_[\"baseline\"]) / output_[\"TSHPO\"]).astype('int')\n",
    "output_ = output_.round(2)\n",
    "\n",
    "FileHelper().to_latex(output_.loc[:, ['data_size_type', 'hpo_opt_method', 'baseline', 'TSHPO', \"↑\"]],\n",
    "                      \"time_consume.tex\", index=False)\n",
    "\n",
    "output_.loc[:, ['data_size_type', 'hpo_opt_method', 'baseline', 'TSHPO', \"↑\"]]"
   ],
   "metadata": {
    "collapsed": false
   }
  },
  {
   "cell_type": "code",
   "execution_count": null,
   "outputs": [],
   "source": [],
   "metadata": {
    "collapsed": false
   }
  }
 ],
 "metadata": {
  "kernelspec": {
   "display_name": "Python 3 (ipykernel)",
   "language": "python",
   "name": "python3"
  },
  "language_info": {
   "codemirror_mode": {
    "name": "ipython",
    "version": 3
   },
   "file_extension": ".py",
   "mimetype": "text/x-python",
   "name": "python",
   "nbconvert_exporter": "python",
   "pygments_lexer": "ipython3",
   "version": "3.9.19"
  }
 },
 "nbformat": 4,
 "nbformat_minor": 4
}
